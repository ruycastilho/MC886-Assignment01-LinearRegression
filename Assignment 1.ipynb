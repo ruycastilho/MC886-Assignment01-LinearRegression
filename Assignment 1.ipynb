{
 "cells": [
  {
   "cell_type": "code",
   "execution_count": 1,
   "metadata": {},
   "outputs": [],
   "source": [
    "import pandas as pd\n",
    "import os\n",
    "\n",
    "def load_diamond_data():\n",
    "    csv_path = os.path.join(\"diamonds-dataset\", \"diamonds-train.csv\")\n",
    "    return pd.read_csv(csv_path)"
   ]
  },
  {
   "cell_type": "code",
   "execution_count": 2,
   "metadata": {},
   "outputs": [],
   "source": [
    "#Carrega os dados de treino e faz feature scaling(depth, table)\n",
    "import numpy as np\n",
    "diamond_data = load_diamond_data()\n",
    "diamond_data[\"depth\"] = (diamond_data[\"depth\"] / 10)\n",
    "diamond_data[\"table\"] = (diamond_data[\"table\"] / 10)"
   ]
  },
  {
   "cell_type": "code",
   "execution_count": 3,
   "metadata": {
    "scrolled": true
   },
   "outputs": [],
   "source": [
    "#dummy coding(cut,color,clarity)\n",
    "from sklearn.preprocessing import LabelEncoder\n",
    "diamond_data = load_diamond_data()\n",
    "diamond_data[\"depth\"] = diamond_data[\"depth\"] / 10\n",
    "diamond_data[\"table\"] = diamond_data[\"table\"] / 10\n",
    "\n",
    "enumValues = {\"cut\": {\"Fair\":0, \"Good\":1, \"Very Good\":2, \"Premium\":3, \"Ideal\":4},\n",
    "              \"color\": {\"J\": 0, \"I\":1, \"H\":2, \"G\":3, \"F\":4, \"E\":5, \"D\":6},\n",
    "              \"clarity\": {\"I1\":0, \"SI2\":1, \"SI1\":2, \"VS2\":3, \"VS1\":4,\"VVS2\":5, \"VVS1\":6, \"IF\":7}}\n",
    "diamond_data.replace(enumValues, inplace=True)\n"
   ]
  },
  {
   "cell_type": "code",
   "execution_count": 4,
   "metadata": {},
   "outputs": [],
   "source": [
    "# Normal Equation\n",
    "\n",
    "def NormalEquation(X, y):\n",
    "\n",
    "    transpose = X.T\n",
    "\n",
    "    mult1 = transpose.dot(X)\n",
    "\n",
    "    try:\n",
    "        inverse = np.linalg.inv(mult1)\n",
    "\n",
    "    except np.linalg.LinAlgError:\n",
    "        print(\"Not invertible\")\n",
    "        return np.zeros(1,1)\n",
    "\n",
    "    else:\n",
    "        mult2 = (inverse.dot(transpose)).dot(y)\n",
    "        return mult2\n"
   ]
  },
  {
   "cell_type": "code",
   "execution_count": 5,
   "metadata": {},
   "outputs": [],
   "source": [
    "import numpy as np\n",
    "\n",
    "#function add a first column filled with 1's and delete de last colum\n",
    "def prepareSet(setToPrepare):\n",
    "    X = np.array(setToPrepare)\n",
    "\n",
    "    X = np.delete(X, -1, axis=1)\n",
    "\n",
    "    X = np.c_[np.ones((len(X), 1)),X]\n",
    "\n",
    "    y = np.array(setToPrepare[\"price\"])\n",
    "\n",
    "    return X,y"
   ]
  },
  {
   "cell_type": "code",
   "execution_count": 6,
   "metadata": {},
   "outputs": [],
   "source": [
    "# #grafico Carat X Price\n",
    "# import matplotlib.pyplot as plt\n",
    "# plt.scatter(diamond_data[\"carat\"], diamond_data[\"price\"])\n",
    "# plt.xlabel(\"$carat$\", fontsize=18)\n",
    "# plt.ylabel(\"$price(U$)$\", fontsize=18)\n",
    "# plt.show()"
   ]
  },
  {
   "cell_type": "code",
   "execution_count": 7,
   "metadata": {
    "scrolled": true
   },
   "outputs": [],
   "source": [
    "# #grafico Cut X Price\n",
    "# import matplotlib.pyplot as plt\n",
    "# plt.scatter(diamond_data[\"cut\"], diamond_data[\"price\"])\n",
    "# plt.xlabel(\"$cut$\", fontsize=18)\n",
    "# plt.ylabel(\"$price$\", fontsize=18)\n",
    "# plt.show()"
   ]
  },
  {
   "cell_type": "code",
   "execution_count": 8,
   "metadata": {},
   "outputs": [],
   "source": [
    "# #grafico  Color X Price\n",
    "# import matplotlib.pyplot as plt\n",
    "# plt.scatter(diamond_data[\"color\"], diamond_data[\"price\"])\n",
    "# plt.xlabel(\"$color$\", fontsize=18)\n",
    "# plt.ylabel(\"$price$\", fontsize=18)\n",
    "# plt.show()"
   ]
  },
  {
   "cell_type": "code",
   "execution_count": 9,
   "metadata": {},
   "outputs": [],
   "source": [
    "# #grafico Clarity X Price\n",
    "# import matplotlib.pyplot as plt\n",
    "# plt.scatter(diamond_data[\"clarity\"], diamond_data[\"price\"])\n",
    "# plt.xlabel(\"$clarity$\", fontsize=18)\n",
    "# plt.ylabel(\"$price$\", fontsize=18)\n",
    "# plt.show()"
   ]
  },
  {
   "cell_type": "code",
   "execution_count": 10,
   "metadata": {},
   "outputs": [],
   "source": [
    "# #grafico Depth X Price\n",
    "# import matplotlib.pyplot as plt\n",
    "# plt.scatter(diamond_data[\"depth\"], diamond_data[\"price\"])\n",
    "# plt.xlabel(\"$depth$\", fontsize=18)\n",
    "# plt.ylabel(\"$price$\", fontsize=18)\n",
    "# plt.show()"
   ]
  },
  {
   "cell_type": "code",
   "execution_count": 11,
   "metadata": {},
   "outputs": [],
   "source": [
    "# #grafico table X Price\n",
    "# import matplotlib.pyplot as plt\n",
    "# plt.scatter(diamond_data[\"table\"], diamond_data[\"price\"])\n",
    "# plt.xlabel(\"$table$\", fontsize=18)\n",
    "# plt.ylabel(\"$price$\", fontsize=18)\n",
    "# plt.show()"
   ]
  },
  {
   "cell_type": "code",
   "execution_count": 12,
   "metadata": {},
   "outputs": [],
   "source": [
    "# #grafico x X Price\n",
    "# import matplotlib.pyplot as plt\n",
    "# plt.scatter(diamond_data[\"x\"], diamond_data[\"price\"])\n",
    "# plt.xlabel(\"$x$\", fontsize=18)\n",
    "# plt.ylabel(\"$price$\", fontsize=18)\n",
    "# plt.show()"
   ]
  },
  {
   "cell_type": "code",
   "execution_count": 13,
   "metadata": {},
   "outputs": [],
   "source": [
    "# #grafico y X Price\n",
    "# import matplotlib.pyplot as plt\n",
    "# plt.scatter(diamond_data[\"y\"], diamond_data[\"price\"])\n",
    "# plt.xlabel(\"$y$\", fontsize=18)\n",
    "# plt.ylabel(\"$price$\", fontsize=18)\n",
    "# plt.show()"
   ]
  },
  {
   "cell_type": "code",
   "execution_count": 14,
   "metadata": {},
   "outputs": [],
   "source": [
    "# #grafico z X Price\n",
    "# import matplotlib.pyplot as plt\n",
    "# plt.scatter(diamond_data[\"z\"], diamond_data[\"price\"])\n",
    "# plt.xlabel(\"$z$\", fontsize=18)\n",
    "# plt.ylabel(\"$price$\", fontsize=18)\n",
    "# plt.show()"
   ]
  },
  {
   "cell_type": "code",
   "execution_count": 15,
   "metadata": {},
   "outputs": [],
   "source": [
    "# Cross Validation Generation\n",
    "\n",
    "# PRECISA CHAMAR ISSO ANTES DE CHAMAR A FUNCAO --- \n",
    "#                             TRAINING_DATA = prepareSet(diamond_data) \n",
    "\n",
    "from sklearn.model_selection import train_test_split, KFold\n",
    "\n",
    "#essa funcao retorna um gerador de indices\n",
    "def generate_sets(TRAINING_DATA,type='kfold'):\n",
    "\n",
    "    # Cross validation using train_test_split\n",
    "    if (type == 'split'):\n",
    "       return train_test_split(TRAINING_DATA,test_size=0.2,random_state=0)\n",
    "\n",
    "    # Cross validation using K-Fold\n",
    "    # K = 5, Shuffle = true, Seed = 21\n",
    "    elif (type == 'kfold'):\n",
    "        kfold_seed = 21\n",
    "\n",
    "        kfold = KFold(n_splits=5, shuffle=True, random_state=kfold_seed)\n",
    "        return kfold.split(TRAINING_DATA)"
   ]
  },
  {
   "cell_type": "markdown",
   "metadata": {},
   "source": [
    "## Explicação do uso do generate_sets"
   ]
  },
  {
   "cell_type": "code",
   "execution_count": 16,
   "metadata": {
    "scrolled": true
   },
   "outputs": [],
   "source": [
    "\n",
    "# import numpy as np\n",
    "# from sklearn.model_selection import train_test_split, KFold\n",
    "\n",
    "# X = np.array([[10, 20], [30, 40], [50, 60], [70, 80], [90, 100], [110, 120], [130, 140], [150, 160], [170, 180], [190, 200]])\n",
    "# y = np.array(['a', 'b', 'c', 'd', 'e', 'f', 'g', 'h', 'i', 'j'])\n",
    "\n",
    "# #esse b vai ser um gerador, não precisa passar y pois ele gera somente os indices\n",
    "# b = generate_sets(X)\n",
    "\n",
    "# #precisa percorrer ele com 2 indices, um representa o treino, outro o test, \n",
    "# # na proxima iteracao ele ja vai estar num agrupamento diferente\n",
    "# for train_index, val_index in b:\n",
    "#     x_train = X[train_index]\n",
    "#     y_train = y[train_index]\n",
    "#     x_val = X[val_index]\n",
    "#     y_val = y[val_index]\n",
    "#     print(x_train, y_train)\n",
    "#     print(x_val, y_val)\n",
    "#     print(\"-----\")\n",
    "    \n"
   ]
  },
  {
   "cell_type": "code",
   "execution_count": 17,
   "metadata": {
    "scrolled": false
   },
   "outputs": [],
   "source": [
    "# #Scikit-Learn Linear Regression using Stochastic Gradient Descent(SGD) for comparisson\n",
    "# from sklearn.linear_model import SGDRegressor\n",
    "# sgd_reg = SGDRegressor(max_iter = 100, eta0=0.1)\n",
    "# sgd_reg.fit(X_train, y_train)\n",
    "# sgd_reg.intercept_, sgd_reg.coef_\n"
   ]
  },
  {
   "cell_type": "code",
   "execution_count": 18,
   "metadata": {
    "scrolled": true
   },
   "outputs": [],
   "source": [
    "# for train_index, validate_index in generate_sets():\n",
    "#     X_train, X_test = X[train_index], X[validate_index]\n",
    "#     y_train, y_test = y[train_index], y[validate_index]\n",
    "#     print(LinRegBatchGradientDescent(X_train,y_train.reshape(len(y_train),1),100,0.1))"
   ]
  },
  {
   "cell_type": "code",
   "execution_count": 19,
   "metadata": {},
   "outputs": [],
   "source": [
    "def learning_schedule(t):\n",
    "    return t0 / (t + t1)\n",
    "#TODO\n",
    "#implementation Linear Regression using Stochastick Gradient Descent(SGD)\n",
    "def LinRegStochasticGradientDescent(TRAIN_SET, TARGET_SET, N_EPOCHS, LEARNING_RATE):\n",
    "    t0, t1 = 5, 50  # learning schedule hyperparameters\n",
    "    theta = np.random.randn(len(TRAIN_SET),1)  # random initialization\n",
    "    for epoch in range(N_EPOCHS):\n",
    "        for i in range(m):\n",
    "            random_index = np.random.randint(m)\n",
    "            xi = TRAIN_SET[random_index:random_index+1]\n",
    "            yi = TARGET_SET[random_index:random_index+1]\n",
    "            gradients = 2 * xi.T.dot(xi.dot(theta) - yi)\n",
    "            #eta = learning_schedule(epoch * m + i)\n",
    "            #theta = theta - eta * gradients\n",
    "            theta = theta - LEARNING_RATE * gradients"
   ]
  },
  {
   "cell_type": "code",
   "execution_count": 20,
   "metadata": {},
   "outputs": [],
   "source": [
    "#implementation Linear Regression using Mini-Batch Gradient Descent\n",
    "def LinRegMiniGradientDescent(TRAIN_SET, TARGET_SET, N_ITERATION, LEARNING_RATE, SIZE_BATCH):\n",
    "    np.random.seed(42)\n",
    "    theta = np.random.randn(10,1) #random initialization\n",
    "    for iteration in range(N_ITERATIONS):\n",
    "        shuffle_indices = np.random.permutation(TRAIN_SET.shape[0])\n",
    "        train_shuffled = TRAIN_SET[shuffled_indices]\n",
    "        target_shuffled = TARGET_SET[shuffled_indices]\n",
    "        for i in range(0,TARGET_SET.shape[0], SIZE_BATCH):\n",
    "            xi = train_shuffled[i:i+SIZE_BATCH]\n",
    "            yi = target_shuffled[i:i+SIZE_BATCH]\n",
    "            gradients = 2/SIZE_BATCH * xi.T.dot(xi.dot(theta) - yi)\n",
    "            theta = theta - LEARNING_RATE * gradients\n",
    "    return theta"
   ]
  },
  {
   "cell_type": "code",
   "execution_count": 29,
   "metadata": {},
   "outputs": [],
   "source": [
    "import numpy as np\n",
    "from sklearn.metrics import mean_squared_error\n",
    "#Linear Regression using batch gradient descent\n",
    "def LinRegBatchGradientDescent(TRAIN_SET, TARGET_SET, N_ITERATIONS, LEARNING_RATE):\n",
    "    errorPerIteration = np.zeros((N_ITERATIONS, 1))\n",
    "    theta = np.random.randn(TRAIN_SET.shape[1],1) #random initialization\n",
    "    m = TRAIN_SET.shape[0]\n",
    "    for iteration in range(N_ITERATIONS):\n",
    "        predict_set = TRAIN_SET.dot(theta)\n",
    "        gradients = 2/m * TRAIN_SET.T.dot(predict_set - TARGET_SET)\n",
    "        theta = theta - LEARNING_RATE * gradients\n",
    "        errorPerIteration[iteration] = mean_squared_error(TARGET_SET, predict_set)\n",
    "    return theta, errorPerIteration"
   ]
  },
  {
   "cell_type": "code",
   "execution_count": 22,
   "metadata": {},
   "outputs": [
    {
     "data": {
      "text/plain": [
       "(10,)"
      ]
     },
     "execution_count": 22,
     "metadata": {},
     "output_type": "execute_result"
    }
   ],
   "source": [
    "x = np.linspace(-5,5,num=10)\n",
    "x.shape"
   ]
  },
  {
   "cell_type": "markdown",
   "metadata": {},
   "source": [
    "# Proximos 4 celulas e pra mostrar que o nosso LinRegBatchGradientDescent funciona"
   ]
  },
  {
   "cell_type": "code",
   "execution_count": 41,
   "metadata": {},
   "outputs": [],
   "source": [
    "##DATA SET PARA testar A FUNCAO DEPOIS\n",
    "import numpy as np\n",
    "import numpy.random as rnd\n",
    "\n",
    "np.random.seed(42)\n",
    "X = 2 * rnd.rand(100,1)\n",
    "y = 4 + 3 * X + rnd.randn(100,1)"
   ]
  },
  {
   "cell_type": "code",
   "execution_count": 42,
   "metadata": {},
   "outputs": [
    {
     "data": {
      "text/plain": [
       "array([[4.21509616],\n",
       "       [2.77011339]])"
      ]
     },
     "execution_count": 42,
     "metadata": {},
     "output_type": "execute_result"
    }
   ],
   "source": [
    "import numpy.linalg as LA\n",
    "\n",
    "X_b = np.c_[np.ones((100, 1)), X] # add x0 = 1 to each instance\n",
    "theta_best = LA.inv(X_b.T.dot(X_b)).dot(X_b.T).dot(y)\n",
    "theta_best"
   ]
  },
  {
   "cell_type": "code",
   "execution_count": 43,
   "metadata": {},
   "outputs": [
    {
     "data": {
      "text/plain": [
       "(array([4.21413037]), array([2.77067691]))"
      ]
     },
     "execution_count": 43,
     "metadata": {},
     "output_type": "execute_result"
    }
   ],
   "source": [
    "from sklearn.linear_model import SGDRegressor\n",
    "\n",
    "sgd_reg = SGDRegressor(max_iter=1000, penalty=None, eta0=0.1)\n",
    "sgd_reg.fit(X, y.ravel())\n",
    "sgd_reg.intercept_, sgd_reg.coef_"
   ]
  },
  {
   "cell_type": "code",
   "execution_count": 50,
   "metadata": {},
   "outputs": [
    {
     "data": {
      "text/plain": [
       "numpy.ndarray"
      ]
     },
     "execution_count": 50,
     "metadata": {},
     "output_type": "execute_result"
    }
   ],
   "source": [
    "theta, error = LinRegBatchGradientDescent(X_b,y,100,0.1)\n",
    "type(y)"
   ]
  },
  {
   "cell_type": "markdown",
   "metadata": {},
   "source": [
    " --------------------------------------------------------"
   ]
  },
  {
   "cell_type": "markdown",
   "metadata": {},
   "source": [
    "### Plotar CostFunction x Iteration"
   ]
  },
  {
   "cell_type": "code",
   "execution_count": 26,
   "metadata": {},
   "outputs": [
    {
     "name": "stdout",
     "output_type": "stream",
     "text": [
      "[[4.23078698]\n",
      " [2.75625925]]\n"
     ]
    },
    {
     "data": {
      "text/plain": [
       "[0, 20, 0, 100]"
      ]
     },
     "execution_count": 26,
     "metadata": {},
     "output_type": "execute_result"
    },
    {
     "data": {
      "image/png": "[encoded data removed]",
      "text/plain": [
       "<Figure size 432x288 with 1 Axes>"
      ]
     },
     "metadata": {},
     "output_type": "display_data"
    }
   ],
   "source": [
    "\n",
    "# import matplotlib.pyplot as plt\n",
    "# import numpy as pd\n",
    "# %matplotlib inline\n",
    "# theta, error = LinRegBatchGradientDescent(X_b,y,100,0.1)\n",
    "# print(theta)\n",
    "# plt.plot(np.arange(error.shape[0]) ,error)\n",
    "# plt.ylabel('Cost Function')\n",
    "# plt.xlabel('Iterations')\n",
    "# plt.axis([0,20,0,100])\n",
    "\n"
   ]
  },
  {
   "cell_type": "markdown",
   "metadata": {},
   "source": [
    "________________________________"
   ]
  },
  {
   "cell_type": "markdown",
   "metadata": {},
   "source": [
    "# ideias de modelos\n",
    "usando todas as features\n",
    "<br>\n",
    "&nbsp;&nbsp;normal\n",
    "&nbsp;&nbsp;ao quadrado\n",
    "<br>\n",
    "tirando as features que nao aparentam influenciar\n",
    "<br>\n",
    "&nbsp;&nbsp;normal\n",
    "&nbsp;&nbsp; ao quadrado\n"
   ]
  },
  {
   "cell_type": "markdown",
   "metadata": {},
   "source": [
    "### MODELO 1 : Modelo com todas as features"
   ]
  },
  {
   "cell_type": "code",
   "execution_count": 59,
   "metadata": {
    "scrolled": false
   },
   "outputs": [
    {
     "ename": "ValueError",
     "evalue": "shapes (9170,10) and (1,) not aligned: 10 (dim 1) != 1 (dim 0)",
     "output_type": "error",
     "traceback": [
      "\u001b[0;31m---------------------------------------------------------------------------\u001b[0m",
      "\u001b[0;31mValueError\u001b[0m                                Traceback (most recent call last)",
      "\u001b[0;32m<ipython-input-59-a097be966c6b>\u001b[0m in \u001b[0;36m<module>\u001b[0;34m()\u001b[0m\n\u001b[1;32m     17\u001b[0m \u001b[0;34m\u001b[0m\u001b[0m\n\u001b[1;32m     18\u001b[0m     \u001b[0;31m#error from validation\u001b[0m\u001b[0;34m\u001b[0m\u001b[0;34m\u001b[0m\u001b[0m\n\u001b[0;32m---> 19\u001b[0;31m     \u001b[0my1_predict\u001b[0m \u001b[0;34m=\u001b[0m \u001b[0mx1_val\u001b[0m\u001b[0;34m.\u001b[0m\u001b[0mdot\u001b[0m\u001b[0;34m(\u001b[0m\u001b[0mtheta1\u001b[0m\u001b[0;34m[\u001b[0m\u001b[0mi\u001b[0m\u001b[0;34m]\u001b[0m\u001b[0;34m)\u001b[0m\u001b[0;34m\u001b[0m\u001b[0m\n\u001b[0m\u001b[1;32m     20\u001b[0m     \u001b[0merror1\u001b[0m\u001b[0;34m[\u001b[0m\u001b[0mi\u001b[0m\u001b[0;34m]\u001b[0m \u001b[0;34m=\u001b[0m \u001b[0mmean_squared_error\u001b[0m\u001b[0;34m(\u001b[0m\u001b[0my1_val\u001b[0m\u001b[0;34m,\u001b[0m \u001b[0my1_predict\u001b[0m\u001b[0;34m)\u001b[0m\u001b[0;34m\u001b[0m\u001b[0m\n\u001b[1;32m     21\u001b[0m     \u001b[0mi\u001b[0m \u001b[0;34m+=\u001b[0m \u001b[0;36m1\u001b[0m\u001b[0;34m\u001b[0m\u001b[0m\n",
      "\u001b[0;31mValueError\u001b[0m: shapes (9170,10) and (1,) not aligned: 10 (dim 1) != 1 (dim 0)"
     ]
    }
   ],
   "source": [
    "from sklearn.metrics import mean_squared_error\n",
    "\n",
    "x1,y1 = prepareSet(diamond_data)\n",
    "indices_generator = generate_sets(x1)\n",
    "theta1 = np.zeros((5,1))\n",
    "error1 = np.zeros((5,1))\n",
    "i=0\n",
    "for train_index, val_index in indices_generator:\n",
    "    #dados de treino e de validacao\n",
    "    x1_train = x1[train_index]\n",
    "    y1_train = y1[train_index]\n",
    "    x1_val = x1[val_index]\n",
    "    y1_val = y1[val_index]\n",
    "    \n",
    "#   supondo que isso funcione   \n",
    "#   theta1[i]= LinRegBatchGradientDescent(x1_train,y1_train,100,0.1)\n",
    "\n",
    "    #error from validation\n",
    "    y1_predict = x1_val.dot(theta1[i])\n",
    "    error1[i] = mean_squared_error(y1_val, y1_predict)\n",
    "    i += 1\n",
    "    "
   ]
  },
  {
   "cell_type": "markdown",
   "metadata": {},
   "source": [
    "-------------------------------------------------------------------------------------------"
   ]
  },
  {
   "cell_type": "markdown",
   "metadata": {},
   "source": [
    "### Modelo 2: sem as features que nao aparentam ter significado no resultado (table,depth,clarity,color,cut)"
   ]
  },
  {
   "cell_type": "code",
   "execution_count": 61,
   "metadata": {},
   "outputs": [
    {
     "data": {
      "text/html": [
       "<div>\n",
       "<style scoped>\n",
       "    .dataframe tbody tr th:only-of-type {\n",
       "        vertical-align: middle;\n",
       "    }\n",
       "\n",
       "    .dataframe tbody tr th {\n",
       "        vertical-align: top;\n",
       "    }\n",
       "\n",
       "    .dataframe thead th {\n",
       "        text-align: right;\n",
       "    }\n",
       "</style>\n",
       "<table border=\"1\" class=\"dataframe\">\n",
       "  <thead>\n",
       "    <tr style=\"text-align: right;\">\n",
       "      <th></th>\n",
       "      <th>carat</th>\n",
       "      <th>cut</th>\n",
       "      <th>color</th>\n",
       "      <th>clarity</th>\n",
       "      <th>x</th>\n",
       "      <th>y</th>\n",
       "      <th>z</th>\n",
       "      <th>depth</th>\n",
       "      <th>table</th>\n",
       "      <th>price</th>\n",
       "    </tr>\n",
       "  </thead>\n",
       "  <tbody>\n",
       "    <tr>\n",
       "      <th>0</th>\n",
       "      <td>1.62</td>\n",
       "      <td>4</td>\n",
       "      <td>1</td>\n",
       "      <td>3</td>\n",
       "      <td>7.53</td>\n",
       "      <td>7.58</td>\n",
       "      <td>4.69</td>\n",
       "      <td>6.21</td>\n",
       "      <td>5.5</td>\n",
       "      <td>10501</td>\n",
       "    </tr>\n",
       "    <tr>\n",
       "      <th>1</th>\n",
       "      <td>0.30</td>\n",
       "      <td>3</td>\n",
       "      <td>3</td>\n",
       "      <td>2</td>\n",
       "      <td>4.39</td>\n",
       "      <td>4.35</td>\n",
       "      <td>2.57</td>\n",
       "      <td>5.88</td>\n",
       "      <td>6.0</td>\n",
       "      <td>574</td>\n",
       "    </tr>\n",
       "    <tr>\n",
       "      <th>2</th>\n",
       "      <td>1.37</td>\n",
       "      <td>4</td>\n",
       "      <td>4</td>\n",
       "      <td>4</td>\n",
       "      <td>7.28</td>\n",
       "      <td>7.22</td>\n",
       "      <td>4.32</td>\n",
       "      <td>5.96</td>\n",
       "      <td>5.7</td>\n",
       "      <td>11649</td>\n",
       "    </tr>\n",
       "    <tr>\n",
       "      <th>3</th>\n",
       "      <td>0.33</td>\n",
       "      <td>0</td>\n",
       "      <td>2</td>\n",
       "      <td>5</td>\n",
       "      <td>4.40</td>\n",
       "      <td>4.32</td>\n",
       "      <td>2.84</td>\n",
       "      <td>6.51</td>\n",
       "      <td>5.9</td>\n",
       "      <td>922</td>\n",
       "    </tr>\n",
       "    <tr>\n",
       "      <th>4</th>\n",
       "      <td>0.32</td>\n",
       "      <td>2</td>\n",
       "      <td>4</td>\n",
       "      <td>3</td>\n",
       "      <td>4.43</td>\n",
       "      <td>4.48</td>\n",
       "      <td>2.62</td>\n",
       "      <td>5.88</td>\n",
       "      <td>6.2</td>\n",
       "      <td>602</td>\n",
       "    </tr>\n",
       "  </tbody>\n",
       "</table>\n",
       "</div>"
      ],
      "text/plain": [
       "   carat  cut  color  clarity     x     y     z  depth  table  price\n",
       "0   1.62    4      1        3  7.53  7.58  4.69   6.21    5.5  10501\n",
       "1   0.30    3      3        2  4.39  4.35  2.57   5.88    6.0    574\n",
       "2   1.37    4      4        4  7.28  7.22  4.32   5.96    5.7  11649\n",
       "3   0.33    0      2        5  4.40  4.32  2.84   6.51    5.9    922\n",
       "4   0.32    2      4        3  4.43  4.48  2.62   5.88    6.2    602"
      ]
     },
     "execution_count": 61,
     "metadata": {},
     "output_type": "execute_result"
    }
   ],
   "source": [
    "diamond_data.head()"
   ]
  },
  {
   "cell_type": "code",
   "execution_count": 69,
   "metadata": {
    "scrolled": false
   },
   "outputs": [
    {
     "data": {
      "text/html": [
       "<div>\n",
       "<style scoped>\n",
       "    .dataframe tbody tr th:only-of-type {\n",
       "        vertical-align: middle;\n",
       "    }\n",
       "\n",
       "    .dataframe tbody tr th {\n",
       "        vertical-align: top;\n",
       "    }\n",
       "\n",
       "    .dataframe thead th {\n",
       "        text-align: right;\n",
       "    }\n",
       "</style>\n",
       "<table border=\"1\" class=\"dataframe\">\n",
       "  <thead>\n",
       "    <tr style=\"text-align: right;\">\n",
       "      <th></th>\n",
       "      <th>x</th>\n",
       "      <th>y</th>\n",
       "      <th>z</th>\n",
       "      <th>carat</th>\n",
       "      <th>price</th>\n",
       "    </tr>\n",
       "  </thead>\n",
       "  <tbody>\n",
       "    <tr>\n",
       "      <th>0</th>\n",
       "      <td>7.53</td>\n",
       "      <td>7.58</td>\n",
       "      <td>4.69</td>\n",
       "      <td>1.62</td>\n",
       "      <td>10501</td>\n",
       "    </tr>\n",
       "    <tr>\n",
       "      <th>1</th>\n",
       "      <td>4.39</td>\n",
       "      <td>4.35</td>\n",
       "      <td>2.57</td>\n",
       "      <td>0.30</td>\n",
       "      <td>574</td>\n",
       "    </tr>\n",
       "    <tr>\n",
       "      <th>2</th>\n",
       "      <td>7.28</td>\n",
       "      <td>7.22</td>\n",
       "      <td>4.32</td>\n",
       "      <td>1.37</td>\n",
       "      <td>11649</td>\n",
       "    </tr>\n",
       "    <tr>\n",
       "      <th>3</th>\n",
       "      <td>4.40</td>\n",
       "      <td>4.32</td>\n",
       "      <td>2.84</td>\n",
       "      <td>0.33</td>\n",
       "      <td>922</td>\n",
       "    </tr>\n",
       "    <tr>\n",
       "      <th>4</th>\n",
       "      <td>4.43</td>\n",
       "      <td>4.48</td>\n",
       "      <td>2.62</td>\n",
       "      <td>0.32</td>\n",
       "      <td>602</td>\n",
       "    </tr>\n",
       "  </tbody>\n",
       "</table>\n",
       "</div>"
      ],
      "text/plain": [
       "      x     y     z  carat  price\n",
       "0  7.53  7.58  4.69   1.62  10501\n",
       "1  4.39  4.35  2.57   0.30    574\n",
       "2  7.28  7.22  4.32   1.37  11649\n",
       "3  4.40  4.32  2.84   0.33    922\n",
       "4  4.43  4.48  2.62   0.32    602"
      ]
     },
     "execution_count": 69,
     "metadata": {},
     "output_type": "execute_result"
    }
   ],
   "source": [
    "from sklearn.metrics import mean_squared_error\n",
    "\n",
    "data = diamond_data[['x', 'y', 'z', 'carat', 'price']]\n",
    "x2,y2 = prepareSet(data)\n",
    "indices_generator = generate_sets(x2)\n",
    "theta2 = np.zeros((5,1))\n",
    "error2 = np.zeros((5,1))\n",
    "i=0\n",
    "for train_index, val_index in indices_generator:\n",
    "    #dados de treino e de validacao\n",
    "    x2_train = x2[train_index]\n",
    "    y2_train = y2[train_index]\n",
    "    x2_val = x2[val_index]\n",
    "    y2_val = y2[val_index]\n",
    "    \n",
    "#   supondo que isso funcione   \n",
    "#   theta2[i]= LinRegBatchGradientDescent(x2_train,y2_train,100,0.1)\n",
    "\n",
    "    #error from validation\n",
    "    y2_predict = x2_val.dot(theta2[i])\n",
    "    error2[i] = mean_squared_error(y2_val, y2_predict)\n",
    "    i += 1"
   ]
  },
  {
   "cell_type": "markdown",
   "metadata": {},
   "source": [
    "### Modelo 3 : sem as features que nao aparentam ter significado no resultado, so que com elas ao quadrado"
   ]
  },
  {
   "cell_type": "code",
   "execution_count": 76,
   "metadata": {},
   "outputs": [
    {
     "ename": "ValueError",
     "evalue": "shapes (9170,9) and (1,) not aligned: 9 (dim 1) != 1 (dim 0)",
     "output_type": "error",
     "traceback": [
      "\u001b[0;31m---------------------------------------------------------------------------\u001b[0m",
      "\u001b[0;31mValueError\u001b[0m                                Traceback (most recent call last)",
      "\u001b[0;32m<ipython-input-76-bb5b1c6b6f46>\u001b[0m in \u001b[0;36m<module>\u001b[0;34m()\u001b[0m\n\u001b[1;32m     23\u001b[0m \u001b[0;34m\u001b[0m\u001b[0m\n\u001b[1;32m     24\u001b[0m     \u001b[0;31m#error from validation\u001b[0m\u001b[0;34m\u001b[0m\u001b[0;34m\u001b[0m\u001b[0m\n\u001b[0;32m---> 25\u001b[0;31m     \u001b[0my3_predict\u001b[0m \u001b[0;34m=\u001b[0m \u001b[0mx3_val\u001b[0m\u001b[0;34m.\u001b[0m\u001b[0mdot\u001b[0m\u001b[0;34m(\u001b[0m\u001b[0mtheta3\u001b[0m\u001b[0;34m[\u001b[0m\u001b[0mi\u001b[0m\u001b[0;34m]\u001b[0m\u001b[0;34m)\u001b[0m\u001b[0;34m\u001b[0m\u001b[0m\n\u001b[0m\u001b[1;32m     26\u001b[0m     \u001b[0merror3\u001b[0m\u001b[0;34m[\u001b[0m\u001b[0mi\u001b[0m\u001b[0;34m]\u001b[0m \u001b[0;34m=\u001b[0m \u001b[0mmean_squared_error\u001b[0m\u001b[0;34m(\u001b[0m\u001b[0my3_val\u001b[0m\u001b[0;34m,\u001b[0m \u001b[0my3_predict\u001b[0m\u001b[0;34m)\u001b[0m\u001b[0;34m\u001b[0m\u001b[0m\n\u001b[1;32m     27\u001b[0m     \u001b[0mi\u001b[0m \u001b[0;34m+=\u001b[0m \u001b[0;36m1\u001b[0m\u001b[0;34m\u001b[0m\u001b[0m\n",
      "\u001b[0;31mValueError\u001b[0m: shapes (9170,9) and (1,) not aligned: 9 (dim 1) != 1 (dim 0)"
     ]
    }
   ],
   "source": [
    "from sklearn.metrics import mean_squared_error\n",
    "\n",
    "data = diamond_data[['x', 'y', 'z', 'carat', 'price']]\n",
    "data.insert(loc=0, column='x2', value = data['x']**2)\n",
    "data.insert(loc=0, column='y2', value = data['y']**2)\n",
    "data.insert(loc=0, column='z2', value = data['z']**2)\n",
    "data.insert(loc=0, column='carat2', value = data['carat']**2)\n",
    "data.head()\n",
    "x3,y3 = prepareSet(data)\n",
    "indices_generator = generate_sets(x3)\n",
    "theta3 = np.zeros((5,1))\n",
    "error3 = np.zeros((5,1))\n",
    "i=0\n",
    "for train_index, val_index in indices_generator:\n",
    "    #dados de treino e de validacao\n",
    "    x3_train = x3[train_index]\n",
    "    y3_train = y3[train_index]\n",
    "    x3_val = x3[val_index]\n",
    "    y3_val = y3[val_index]\n",
    "    \n",
    "#   supondo que isso funcione   \n",
    "#   theta3[i]= LinRegBatchGradientDescent(x3_train,y3_train,100,0.1)\n",
    "\n",
    "    #error from validation\n",
    "    y3_predict = x3_val.dot(theta3[i])\n",
    "    error3[i] = mean_squared_error(y3_val, y3_predict)\n",
    "    i += 1"
   ]
  },
  {
   "cell_type": "markdown",
   "metadata": {},
   "source": [
    "### Modelo 4: todas as features com tudo ao cubo"
   ]
  },
  {
   "cell_type": "code",
   "execution_count": 89,
   "metadata": {},
   "outputs": [
    {
     "name": "stdout",
     "output_type": "stream",
     "text": [
      "[  1.         1.62       4.         1.         3.         7.53\n",
      "   7.58       4.69       6.21       5.5        1.         2.6244\n",
      "  16.         1.         9.        56.7009    57.4564    21.9961\n",
      "  38.5641    30.25       1.         4.251528  64.         1.\n",
      "  27.       426.957777 435.519512 103.161709 239.483061 166.375   ] [1.   1.62 4.   1.   3.   7.53 7.58 4.69 6.21 5.5 ]\n"
     ]
    }
   ],
   "source": [
    "from sklearn.metrics import mean_squared_error\n",
    "\n",
    "x4,y4 = prepareSet(diamond_data)\n",
    "x4 = np.hstack([x4,x4**2,x4**3])\n",
    "indices_generator = generate_sets(x4)\n",
    "theta4 = np.zeros((5,1))\n",
    "error4 = np.zeros((5,1))\n",
    "i=0\n",
    "for train_index, val_index in indices_generator:\n",
    "    #dados de treino e de validacao\n",
    "    x4_train = x4[train_index]\n",
    "    y4_train = y4[train_index]\n",
    "    x4_val = x4[val_index]\n",
    "    y4_val = y4[val_index]\n",
    "    \n",
    "#   supondo que isso funcione   \n",
    "#   theta4[i]= LinRegBatchGradientDescent(x4_train,y4_train,100,0.1)\n",
    "\n",
    "    #error from validation\n",
    "    y4_predict = x4_val.dot(theta4[i])\n",
    "    error4[i] = mean_squared_error(y4_val, y4_predict)\n",
    "    i += 1"
   ]
  }
 ],
 "metadata": {
  "kernelspec": {
   "display_name": "Python 3",
   "language": "python",
   "name": "python3"
  },
  "language_info": {
   "codemirror_mode": {
    "name": "ipython",
    "version": 3
   },
   "file_extension": ".py",
   "mimetype": "text/x-python",
   "name": "python",
   "nbconvert_exporter": "python",
   "pygments_lexer": "ipython3",
   "version": "3.6.5"
  }
 },
 "nbformat": 4,
 "nbformat_minor": 2
}
