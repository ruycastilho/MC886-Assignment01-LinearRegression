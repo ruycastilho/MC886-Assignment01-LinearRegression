{
 "cells": [
  {
   "cell_type": "markdown",
   "metadata": {},
   "source": [
    "# Assignment #1\n",
    "Pedro Stramantinoli P. Cagliume Gomes 175955 <br/>\n",
    "Ruy Castilho Barrichelo               177012"
   ]
  },
  {
   "cell_type": "markdown",
   "metadata": {},
   "source": [
    "## Importação dos dados"
   ]
  },
  {
   "cell_type": "code",
   "execution_count": 62,
   "metadata": {},
   "outputs": [],
   "source": [
    "import pandas as pd\n",
    "import os\n",
    "\n",
    "def load_diamond_data():\n",
    "    csv_path = os.path.join(\"diamonds-dataset\", \"diamonds-train.csv\")\n",
    "    return pd.read_csv(csv_path)\n",
    "\n",
    "def load_diamond_tests():\n",
    "    csv_path = os.path.join(\"diamonds-dataset\", \"diamonds-test.csv\")\n",
    "    return pd.read_csv(csv_path)"
   ]
  },
  {
   "cell_type": "markdown",
   "metadata": {},
   "source": [
    "## Feature Scaling e Normalização"
   ]
  },
  {
   "cell_type": "code",
   "execution_count": 2,
   "metadata": {},
   "outputs": [],
   "source": [
    "import numpy as np\n",
    "\n",
    "def normalize(train, test):\n",
    "    train_mean = np.mean(train, axis=0)\n",
    "    train = train - train_mean\n",
    "    test = test - train_mean\n",
    "    \n",
    "    return train, test\n",
    "\n",
    "def scale(X):\n",
    "    max_array = np.max(X, axis=0)\n",
    "    X = X / max_array[None, :]\n",
    "    return X\n",
    "\n",
    "    "
   ]
  },
  {
   "cell_type": "markdown",
   "metadata": {},
   "source": [
    "## Dummy Coding"
   ]
  },
  {
   "cell_type": "code",
   "execution_count": 3,
   "metadata": {
    "scrolled": true
   },
   "outputs": [],
   "source": [
    "# dummy coding(cut,color,clarity)\n",
    "from sklearn.preprocessing import LabelEncoder\n",
    "\n",
    "def dummy(X):\n",
    "    enumValues = {\"cut\": {\"Fair\":0, \"Good\":1, \"Very Good\":2, \"Premium\":3, \"Ideal\":4},\n",
    "                  \"color\": {\"J\": 0, \"I\":1, \"H\":2, \"G\":3, \"F\":4, \"E\":5, \"D\":6},\n",
    "                  \"clarity\": {\"I1\":0, \"SI2\":1, \"SI1\":2, \"VS2\":3, \"VS1\":4,\"VVS2\":5, \"VVS1\":6, \"IF\":7}}\n",
    "    X.replace(enumValues, inplace=True)\n",
    "    return X"
   ]
  },
  {
   "cell_type": "markdown",
   "metadata": {},
   "source": [
    "## Geração de matrizes de Features e Target"
   ]
  },
  {
   "cell_type": "markdown",
   "metadata": {},
   "source": [
    "## Setup inicial dos dados"
   ]
  },
  {
   "cell_type": "code",
   "execution_count": 63,
   "metadata": {
    "scrolled": true
   },
   "outputs": [],
   "source": [
    "\n",
    "import numpy as np\n",
    "\n",
    "#Carrega os dados\n",
    "\n",
    "diamond_data = load_diamond_data()\n",
    "diamond_test = load_diamond_tests()\n",
    "    \n",
    "# Dummy Coding\n",
    "diamond_data = dummy(diamond_data)\n",
    "diamond_test = dummy(diamond_test)\n",
    "\n",
    "# Separação em Features e Target\n",
    "    \n",
    "diamond_data_target = np.array(diamond_data[\"price\"])\n",
    "diamond_test_target = np.array(diamond_test[\"price\"])\n",
    "    \n",
    "diamond_data = np.array(diamond_data)\n",
    "diamond_test = np.array(diamond_test)\n",
    "\n",
    "diamond_data_features = np.delete(diamond_data, -1, axis=1)\n",
    "\n",
    "diamond_test_features = np.delete(diamond_test, -1, axis=1)\n",
    "\n",
    "# Indices das colunas, considerando coluna de 1's adicionada\n",
    "carat = 1\n",
    "cut = 2\n",
    "color = 3\n",
    "clarity = 4\n",
    "x = 5\n",
    "y = 6\n",
    "z = 7\n",
    "depth = 8\n",
    "table = 9\n",
    "x2 = 10\n",
    "y2 = 11\n",
    "z2 = 12\n",
    "carat2 = 13\n",
    "y3 = 14\n",
    "z3 = 15\n",
    "y4 = 16\n",
    "z4 = 17\n",
    "\n",
    "# Inserindo novas features\n",
    "diamond_data_features = np.hstack((diamond_data_features, np.square(diamond_data_features[:,[x]])))\n",
    "diamond_data_features = np.hstack((diamond_data_features, np.square(diamond_data_features[:,[y]])))\n",
    "diamond_data_features = np.hstack((diamond_data_features, np.square(diamond_data_features[:,[z]])))\n",
    "diamond_data_features = np.hstack((diamond_data_features, np.square(diamond_data_features[:,[carat]])))\n",
    "diamond_data_features = np.hstack((diamond_data_features, np.power(diamond_data_features[:,[y]], 3)))\n",
    "diamond_data_features = np.hstack((diamond_data_features, np.power(diamond_data_features[:,[z]], 3)))\n",
    "diamond_data_features = np.hstack((diamond_data_features, np.power(diamond_data_features[:,[y]], 4)))\n",
    "diamond_data_features = np.hstack((diamond_data_features, np.power(diamond_data_features[:,[z]], 4)))\n",
    "\n",
    "diamond_test_features = np.hstack((diamond_test_features, np.square(diamond_test_features[:,[x]])))\n",
    "diamond_test_features = np.hstack((diamond_test_features, np.square(diamond_test_features[:,[y]])))\n",
    "diamond_test_features = np.hstack((diamond_test_features, np.square(diamond_test_features[:,[z]])))\n",
    "diamond_test_features = np.hstack((diamond_test_features, np.square(diamond_test_features[:,[carat]])))\n",
    "diamond_test_features = np.hstack((diamond_test_features, np.power(diamond_test_features[:,[y]], 3)))\n",
    "diamond_test_features = np.hstack((diamond_test_features, np.power(diamond_test_features[:,[z]], 3)))\n",
    "diamond_test_features = np.hstack((diamond_test_features, np.power(diamond_test_features[:,[y]], 4)))\n",
    "diamond_test_features = np.hstack((diamond_test_features, np.power(diamond_test_features[:,[z]], 4)))\n",
    "\n",
    "# Normalização\n",
    "normalized_diamond_data, normalized_diamond_test = normalize(diamond_data_features, diamond_test_features)\n",
    "\n",
    "# Scaling\n",
    "scaled_diamond_data = scale(normalized_diamond_data)\n",
    "scaled_diamond_test = scale(normalized_diamond_test)\n",
    "\n",
    "# # Scaling\n",
    "# scaled_diamond_data = scale(diamond_data_features)\n",
    "# scaled_diamond_test = scale(diamond_test_features)\n",
    "\n",
    "# # Normalização\n",
    "# normalized_diamond_data, normalized_diamond_test = normalize(scaled_diamond_data, scaled_diamond_test)\n",
    "\n",
    "# Adicionando coluna de 1's\n",
    "\n",
    "ready_diamond_data = np.c_[np.ones((len(scaled_diamond_data), 1)), scaled_diamond_data]\n",
    "ready_diamond_test = np.c_[np.ones((len(scaled_diamond_test), 1)), scaled_diamond_test]\n",
    "\n",
    "# ready_diamond_data = np.c_[np.ones((len(normalized_diamond_data), 1)), normalized_diamond_data]\n",
    "# ready_diamond_test = np.c_[np.ones((len(normalized_diamond_test), 1)), normalized_diamond_test]\n",
    "\n",
    "def getTrainSet():\n",
    "    return ready_diamond_data, diamond_data_target\n",
    "\n",
    "def getTestSet():\n",
    "    return ready_diamond_test, diamond_test_target\n"
   ]
  },
  {
   "cell_type": "markdown",
   "metadata": {},
   "source": [
    "## Equação Normal"
   ]
  },
  {
   "cell_type": "code",
   "execution_count": 5,
   "metadata": {},
   "outputs": [],
   "source": [
    "# Normal Equation\n",
    "\n",
    "def NormalEquation(X, y):\n",
    "\n",
    "    transpose = X.T\n",
    "\n",
    "    mult1 = transpose.dot(X)\n",
    "\n",
    "    try:\n",
    "        inverse = np.linalg.inv(mult1)\n",
    "\n",
    "    except np.linalg.LinAlgError:\n",
    "        print(\"Not invertible\")\n",
    "        return np.zeros(1,1)\n",
    "\n",
    "    else:\n",
    "        mult2 = (inverse.dot(transpose)).dot(y)\n",
    "        return mult2\n"
   ]
  },
  {
   "cell_type": "markdown",
   "metadata": {},
   "source": [
    "## Plots de Target em função de Features"
   ]
  },
  {
   "cell_type": "code",
   "execution_count": 165,
   "metadata": {},
   "outputs": [
    {
     "data": {
      "image/png": "[encoded data removed]",
      "text/plain": [
       "<Figure size 432x288 with 1 Axes>"
      ]
     },
     "metadata": {},
     "output_type": "display_data"
    }
   ],
   "source": [
    "# #grafico Carat X Price\n",
    "import matplotlib.pyplot as plt\n",
    "\n",
    "plt.scatter(ready_diamond_data[:,[carat]], diamond_data_target.reshape(len(diamond_data_target), 1))\n",
    "plt.xlabel(\"carat\", fontsize=18)\n",
    "plt.ylabel(\"price(US\\$)\", fontsize=18)\n",
    "plt.show()"
   ]
  },
  {
   "cell_type": "code",
   "execution_count": 167,
   "metadata": {
    "scrolled": true
   },
   "outputs": [
    {
     "data": {
      "image/png": "[encoded data removed]",
      "text/plain": [
       "<Figure size 432x288 with 1 Axes>"
      ]
     },
     "metadata": {},
     "output_type": "display_data"
    }
   ],
   "source": [
    "# #grafico Cut X Price\n",
    "import matplotlib.pyplot as plt\n",
    "plt.scatter(ready_diamond_data[:,[cut]], diamond_data_target.reshape(len(diamond_data_target), 1))\n",
    "plt.xlabel(\"$cut$\", fontsize=18)\n",
    "plt.ylabel(\"price(US\\$)\", fontsize=18)\n",
    "plt.show()"
   ]
  },
  {
   "cell_type": "code",
   "execution_count": 168,
   "metadata": {},
   "outputs": [
    {
     "data": {
      "image/png": "[encoded data removed]",
      "text/plain": [
       "<Figure size 432x288 with 1 Axes>"
      ]
     },
     "metadata": {},
     "output_type": "display_data"
    }
   ],
   "source": [
    "# #grafico  Color X Price\n",
    "import matplotlib.pyplot as plt\n",
    "plt.scatter(ready_diamond_data[:,[color]], diamond_data_target.reshape(len(diamond_data_target), 1))\n",
    "plt.xlabel(\"$color$\", fontsize=18)\n",
    "plt.ylabel(\"price(US\\$)\", fontsize=18)\n",
    "plt.show()"
   ]
  },
  {
   "cell_type": "code",
   "execution_count": 169,
   "metadata": {},
   "outputs": [
    {
     "data": {
      "image/png": "[encoded data removed]",
      "text/plain": [
       "<Figure size 432x288 with 1 Axes>"
      ]
     },
     "metadata": {},
     "output_type": "display_data"
    }
   ],
   "source": [
    "# #grafico Clarity X Price\n",
    "import matplotlib.pyplot as plt\n",
    "plt.scatter(ready_diamond_data[:,[clarity]], diamond_data_target.reshape(len(diamond_data_target), 1))\n",
    "plt.xlabel(\"$clarity$\", fontsize=18)\n",
    "plt.ylabel(\"price(US\\$)\", fontsize=18)\n",
    "plt.show()"
   ]
  },
  {
   "cell_type": "code",
   "execution_count": 170,
   "metadata": {},
   "outputs": [
    {
     "data": {
      "image/png": "[encoded data removed]",
      "text/plain": [
       "<Figure size 432x288 with 1 Axes>"
      ]
     },
     "metadata": {},
     "output_type": "display_data"
    }
   ],
   "source": [
    "# #grafico Depth X Price\n",
    "import matplotlib.pyplot as plt\n",
    "plt.scatter(ready_diamond_data[:,[depth]], diamond_data_target.reshape(len(diamond_data_target), 1))\n",
    "plt.xlabel(\"$depth$\", fontsize=18)\n",
    "plt.ylabel(\"price(US\\$)\", fontsize=18)\n",
    "plt.show()"
   ]
  },
  {
   "cell_type": "code",
   "execution_count": 171,
   "metadata": {},
   "outputs": [
    {
     "data": {
      "image/png": "[encoded data removed]",
      "text/plain": [
       "<Figure size 432x288 with 1 Axes>"
      ]
     },
     "metadata": {},
     "output_type": "display_data"
    }
   ],
   "source": [
    "# #grafico table X Price\n",
    "import matplotlib.pyplot as plt\n",
    "plt.scatter(ready_diamond_data[:,[table]], diamond_data_target.reshape(len(diamond_data_target), 1))\n",
    "plt.xlabel(\"$table$\", fontsize=18)\n",
    "plt.ylabel(\"price(US\\$)\", fontsize=18)\n",
    "plt.show()"
   ]
  },
  {
   "cell_type": "code",
   "execution_count": 172,
   "metadata": {},
   "outputs": [
    {
     "data": {
      "image/png": "[encoded data removed]",
      "text/plain": [
       "<Figure size 432x288 with 1 Axes>"
      ]
     },
     "metadata": {},
     "output_type": "display_data"
    }
   ],
   "source": [
    "# #grafico x X Price\n",
    "import matplotlib.pyplot as plt\n",
    "plt.scatter(ready_diamond_data[:,[x]], diamond_data_target.reshape(len(diamond_data_target), 1))\n",
    "plt.xlabel(\"$x$\", fontsize=18)\n",
    "plt.ylabel(\"price(US\\$)\", fontsize=18)\n",
    "plt.show()"
   ]
  },
  {
   "cell_type": "code",
   "execution_count": 173,
   "metadata": {
    "scrolled": true
   },
   "outputs": [
    {
     "data": {
      "image/png": "[encoded data removed]",
      "text/plain": [
       "<Figure size 432x288 with 1 Axes>"
      ]
     },
     "metadata": {},
     "output_type": "display_data"
    }
   ],
   "source": [
    "# #grafico y X Price\n",
    "import matplotlib.pyplot as plt\n",
    "plt.scatter(ready_diamond_data[:,[y]], diamond_data_target.reshape(len(diamond_data_target), 1))\n",
    "plt.xlabel(\"$y$\", fontsize=18)\n",
    "plt.ylabel(\"price(US\\$)\", fontsize=18)\n",
    "plt.axis([-.1, 0.2,0,17500])\n",
    "plt.show()"
   ]
  },
  {
   "cell_type": "code",
   "execution_count": 174,
   "metadata": {},
   "outputs": [
    {
     "data": {
      "image/png": "[encoded data removed]",
      "text/plain": [
       "<Figure size 432x288 with 1 Axes>"
      ]
     },
     "metadata": {},
     "output_type": "display_data"
    }
   ],
   "source": [
    "# #grafico z X Price\n",
    "import matplotlib.pyplot as plt\n",
    "plt.scatter(ready_diamond_data[:,[z]], diamond_data_target.reshape(len(diamond_data_target), 1))\n",
    "plt.xlabel(\"$z$\", fontsize=18)\n",
    "plt.ylabel(\"price(US\\$)\", fontsize=18)\n",
    "plt.show()"
   ]
  },
  {
   "cell_type": "markdown",
   "metadata": {},
   "source": [
    "## Gerador de conjuntos de Cross Validation"
   ]
  },
  {
   "cell_type": "code",
   "execution_count": 15,
   "metadata": {},
   "outputs": [],
   "source": [
    "# Cross Validation Generation\n",
    "\n",
    "# PRECISA CHAMAR ISSO ANTES DE CHAMAR A FUNCAO --- \n",
    "#                             TRAINING_DATA = prepareSet(diamond_data) \n",
    "\n",
    "from sklearn.model_selection import train_test_split, KFold\n",
    "\n",
    "# Retorna um gerador de indices\n",
    "def generate_sets(TRAINING_DATA,type='kfold'):\n",
    "\n",
    "    # Cross validation using train_test_split\n",
    "    if (type == 'split'):\n",
    "       return train_test_split(TRAINING_DATA,test_size=0.2,random_state=0)\n",
    "\n",
    "    # Cross validation using K-Fold\n",
    "    # K = 5, Shuffle = true, Seed = 21\n",
    "    elif (type == 'kfold'):\n",
    "        kfold_seed = 21\n",
    "\n",
    "        kfold = KFold(n_splits=5, shuffle=True, random_state=kfold_seed)\n",
    "        return kfold.split(TRAINING_DATA)"
   ]
  },
  {
   "cell_type": "markdown",
   "metadata": {},
   "source": [
    "## Explicação do uso do generate_sets"
   ]
  },
  {
   "cell_type": "code",
   "execution_count": 16,
   "metadata": {
    "scrolled": true
   },
   "outputs": [],
   "source": [
    "\n",
    "# import numpy as np\n",
    "# from sklearn.model_selection import train_test_split, KFold\n",
    "\n",
    "# X = np.array([[10, 20], [30, 40], [50, 60], [70, 80], [90, 100], [110, 120], [130, 140], [150, 160], [170, 180], [190, 200]])\n",
    "# y = np.array(['a', 'b', 'c', 'd', 'e', 'f', 'g', 'h', 'i', 'j'])\n",
    "\n",
    "# #esse b vai ser um gerador, não precisa passar y pois ele gera somente os indices\n",
    "# b = generate_sets(X)\n",
    "\n",
    "# #precisa percorrer ele com 2 indices, um representa o treino, outro o test, \n",
    "# # na proxima iteracao ele ja vai estar num agrupamento diferente\n",
    "# for train_index, val_index in b:\n",
    "#     x_train = X[train_index]\n",
    "#     y_train = y[train_index]\n",
    "#     x_val = X[val_index]\n",
    "#     y_val = y[val_index]\n",
    "#     print(x_train, y_train)\n",
    "#     print(x_val, y_val)\n",
    "#     print(\"-----\")\n",
    "    \n"
   ]
  },
  {
   "cell_type": "markdown",
   "metadata": {},
   "source": [
    "## Regressão Linear: Mini-batch"
   ]
  },
  {
   "cell_type": "code",
   "execution_count": 17,
   "metadata": {},
   "outputs": [],
   "source": [
    "#implementation Linear Regression using Mini-Batch Gradient Descent\n",
    "# def LinRegMiniGradientDescent(TRAIN_SET, TARGET_SET, N_ITERATION, LEARNING_RATE, SIZE_BATCH):\n",
    "#     np.random.seed(42)\n",
    "#     theta = np.random.randn(10,1) #random initialization\n",
    "#     for iteration in range(N_ITERATIONS):\n",
    "#         shuffle_indices = np.random.permutation(TRAIN_SET.shape[0])\n",
    "#         train_shuffled = TRAIN_SET[shuffled_indices]\n",
    "#         target_shuffled = TARGET_SET[shuffled_indices]\n",
    "#         for i in range(0,TARGET_SET.shape[0], SIZE_BATCH):\n",
    "#             xi = train_shuffled[i:i+SIZE_BATCH]\n",
    "#             yi = target_shuffled[i:i+SIZE_BATCH]\n",
    "#             gradients = 2/SIZE_BATCH * xi.T.dot(xi.dot(theta) - yi)\n",
    "#             theta = theta - LEARNING_RATE * gradients\n",
    "#     return theta"
   ]
  },
  {
   "cell_type": "markdown",
   "metadata": {},
   "source": [
    "## Regressão Linear: Batch"
   ]
  },
  {
   "cell_type": "code",
   "execution_count": 18,
   "metadata": {},
   "outputs": [],
   "source": [
    "import numpy as np\n",
    "import random\n",
    "\n",
    "\n",
    "def LinRegBatchGradientDescent(x, y, numIterations, learningRate, verbose=0):\n",
    "    xTrans = x.transpose()\n",
    "    theta = np.zeros((x.shape[1], 1)) * 0.01\n",
    "    m = x.shape[0]\n",
    "    y = y.reshape((y.shape[0],1))\n",
    "    for i in range(numIterations):\n",
    "        hypothesis = np.dot(x, theta)\n",
    "        loss = hypothesis - y\n",
    "        cost = (np.sum(loss ** 2)) / (2 * m)\n",
    "        if verbose == 1:\n",
    "            print ('cost on it', i, ':', cost)\n",
    "        gradient = np.dot(xTrans, loss) / m\n",
    "        theta = theta - learningRate * gradient\n",
    "    return theta"
   ]
  },
  {
   "cell_type": "markdown",
   "metadata": {},
   "source": [
    "## Regressão Linear: Batch + Custo por Iteração"
   ]
  },
  {
   "cell_type": "code",
   "execution_count": 122,
   "metadata": {},
   "outputs": [],
   "source": [
    "import numpy as np\n",
    "import random\n",
    "\n",
    "\n",
    "def LinRegBatchGradientDescentCostPerIteraction(x, y, x_val, y_val, numIterations, learningRate, verbose=0):\n",
    "    xTrans = x.transpose()\n",
    "    theta = np.random.randn(x.shape[1],1) * 0.01 #random initialization\n",
    "    m = x.shape[0]\n",
    "    newNumInteraction = int(numIterations/10)\n",
    "    cost = np.zeros((newNumInteraction,1))\n",
    "    cost_validation = np.zeros((newNumInteraction,1))\n",
    "    y = y.reshape(y.shape[0], 1)\n",
    "    y_val = y_val.reshape(y_val.shape[0],1)\n",
    "    for i in range(numIterations):\n",
    "        hypothesis = np.dot(x, theta)\n",
    "        loss = hypothesis - y\n",
    "        gradient = np.dot(xTrans, loss) / m\n",
    "        theta = theta - learningRate * gradient\n",
    "        if i % 10 == 0 :\n",
    "            index = int(i / 10);\n",
    "            val_predict = np.dot(x_val, theta)\n",
    "            loss_val = val_predict - y_val\n",
    "            cost_validation[index] = np.sum(loss_val ** 2) / (2 * m)\n",
    "            cost[index] = np.sum(loss ** 2) / (2 * m)\n",
    "        if verbose == 1:\n",
    "            print ('cost on it', i, ':', cost)\n",
    "    return theta, cost, cost_validation"
   ]
  },
  {
   "cell_type": "markdown",
   "metadata": {},
   "source": [
    "________________________________"
   ]
  },
  {
   "cell_type": "markdown",
   "metadata": {},
   "source": [
    "# Modelos"
   ]
  },
  {
   "cell_type": "markdown",
   "metadata": {},
   "source": [
    "### MODELO 1 : Modelo com todas as features, lineares, sem remoções"
   ]
  },
  {
   "cell_type": "code",
   "execution_count": 132,
   "metadata": {
    "scrolled": true
   },
   "outputs": [],
   "source": [
    "from sklearn.metrics import mean_squared_error\n",
    "\n",
    "x1,y1 = getTrainSet()\n",
    "x1 = x1[:, [0,carat,x,y,z,depth,table,color,cut,clarity]]\n",
    "indices_generator = generate_sets(x1)\n",
    "theta1 = np.zeros((5,x1.shape[1],1))\n",
    "error1 = np.zeros((5,1))\n",
    "error1_n = np.zeros((5,1)) \n",
    "i=0\n",
    "for train_index, val_index in indices_generator:\n",
    "    #dados de treino e de validacao\n",
    "    x1_train = x1[train_index]\n",
    "    y1_train = y1[train_index]\n",
    "    x1_val = x1[val_index]\n",
    "    y1_val = y1[val_index]\n",
    "     \n",
    "    theta1[i],cost, cost_val = LinRegBatchGradientDescentCostPerIteraction(x1_train,y1_train, x1_val, y1_val,500000,0.00001, verbose=0)\n",
    "    thetaNormal = NormalEquation(x1_train,y1_train)\n",
    "    \n",
    "    #error from validation\n",
    "    y1_predict = x1_val.dot(theta1[i])\n",
    "    y1_n_predict = x1_val.dot(thetaNormal)\n",
    "    error1[i] = mean_squared_error(y1_val, y1_predict)\n",
    "    error1_n[i] = mean_squared_error(y1_val, y1_n_predict)/2\n",
    "    i += 1\n",
    "\n",
    "\n"
   ]
  },
  {
   "cell_type": "code",
   "execution_count": 133,
   "metadata": {},
   "outputs": [
    {
     "name": "stdout",
     "output_type": "stream",
     "text": [
      "Iteracao  1\n",
      "\tErro pelo Gradient Descent: 8467384\n",
      "\tErro pela Equacao Normal:    724963\n",
      "Iteracao  2\n",
      "\tErro pelo Gradient Descent: 8758233\n",
      "\tErro pela Equacao Normal:    732478\n",
      "Iteracao  3\n",
      "\tErro pelo Gradient Descent: 9086912\n",
      "\tErro pela Equacao Normal:    771709\n",
      "Iteracao  4\n",
      "\tErro pelo Gradient Descent: 8762734\n",
      "\tErro pela Equacao Normal:    897075\n",
      "Iteracao  5\n",
      "\tErro pelo Gradient Descent: 8487302\n",
      "\tErro pela Equacao Normal:    720242\n",
      "Media erros GD: 8712513\n",
      "Media erros EN:  769293\n"
     ]
    }
   ],
   "source": [
    "np.set_printoptions(precision=1)\n",
    "for i in range(5):\n",
    "    print(\"Iteracao \", i+1,)\n",
    "    print(\"\\tErro pelo Gradient Descent:\", int(error1[i]) )\n",
    "    print(\"\\tErro pela Equacao Normal:   \" , int(error1_n[i]) )\n",
    "\n",
    "print(\"Media erros GD:\", int(np.mean(error1)) )\n",
    "print(\"Media erros EN: \", int(np.mean(error1_n)) )\n"
   ]
  },
  {
   "cell_type": "code",
   "execution_count": 151,
   "metadata": {},
   "outputs": [
    {
     "data": {
      "image/png": "[encoded data removed]",
      "text/plain": [
       "<Figure size 432x288 with 1 Axes>"
      ]
     },
     "metadata": {},
     "output_type": "display_data"
    }
   ],
   "source": [
    "# import matplotlib.pyplot as plt\n",
    "import numpy as pd\n",
    "%matplotlib inline\n",
    "\n",
    "plt.plot(range(cost.shape[0]) ,cost)\n",
    "plt.plot(range(cost_val.shape[0]), cost_val)\n",
    "plt.ylabel('Cost Function')\n",
    "plt.xlabel('Iterations x 10')\n",
    "plt.axis([0,50000,0,10000000])\n",
    "plt.savefig('model1.png', bbox_inches='tight')\n",
    "plt.show()"
   ]
  },
  {
   "cell_type": "markdown",
   "metadata": {},
   "source": [
    "-------------------------------------------------------------------------------------------"
   ]
  },
  {
   "cell_type": "markdown",
   "metadata": {},
   "source": [
    "### Modelo 2: Removidas as features que não aparentam influenciar o preço/target (table,depth,clarity,color,cut)"
   ]
  },
  {
   "cell_type": "code",
   "execution_count": 144,
   "metadata": {
    "scrolled": false
   },
   "outputs": [],
   "source": [
    "from sklearn.metrics import mean_squared_error\n",
    "\n",
    "initial_x2,initial_y2 = getTrainSet()\n",
    "initial_x2 = initial_x2[:, [0,x,y,z,carat]]\n",
    "indices_generator = generate_sets(initial_x2)\n",
    "theta2 = np.zeros((5,initial_x2.shape[1],1))\n",
    "error2 = np.zeros((5,1))\n",
    "error2_n = np.zeros((5,1)) \n",
    "i=0\n",
    "for train_index, val_index in indices_generator:\n",
    "    #dados de treino e de validacao\n",
    "    x2_train = initial_x2[train_index]\n",
    "    y2_train = initial_y2[train_index]\n",
    "    x2_val = initial_x2[val_index]\n",
    "    y2_val = initial_y2[val_index]\n",
    "     \n",
    "    theta2[i] = LinRegBatchGradientDescent(x2_train,y2_train,500000,0.0001)\n",
    "    thetaNormal = NormalEquation(x2_train,y2_train)\n",
    "    \n",
    "    #error from validation\n",
    "    y2_predict = x2_val.dot(theta2[i])\n",
    "    y2_n_predict = x2_val.dot(thetaNormal)\n",
    "    error2[i] = mean_squared_error(y2_val, y2_predict)\n",
    "    error2_n[i] = mean_squared_error(y2_val, y2_n_predict)/2\n",
    "    i += 1"
   ]
  },
  {
   "cell_type": "code",
   "execution_count": 145,
   "metadata": {
    "scrolled": true
   },
   "outputs": [
    {
     "name": "stdout",
     "output_type": "stream",
     "text": [
      "Iteracao  1\n",
      "\tErro pelo Gradient Descent: 3102206\n",
      "\tErro pela Equacao Normal:   1109230\n",
      "Iteracao  2\n",
      "\tErro pelo Gradient Descent: 3176340\n",
      "\tErro pela Equacao Normal:   1155806\n",
      "Iteracao  3\n",
      "\tErro pelo Gradient Descent: 3318291\n",
      "\tErro pela Equacao Normal:   1188962\n",
      "Iteracao  4\n",
      "\tErro pelo Gradient Descent: 3218519\n",
      "\tErro pela Equacao Normal:   1886008\n",
      "Iteracao  5\n",
      "\tErro pelo Gradient Descent: 3150639\n",
      "\tErro pela Equacao Normal:   1141531\n",
      "Media erros GD: 3193199\n",
      "Media erros EN: 1296307\n"
     ]
    }
   ],
   "source": [
    "np.set_printoptions(precision=1)\n",
    "for i in range(5):\n",
    "    print(\"Iteracao \", i+1,)\n",
    "    print(\"\\tErro pelo Gradient Descent:\", int(error2[i]) )\n",
    "    print(\"\\tErro pela Equacao Normal:  \" , int(error2_n[i]) )\n",
    "\n",
    "print(\"Media erros GD:\", int(np.mean(error2)) )\n",
    "print(\"Media erros EN:\", int(np.mean(error2_n)) )"
   ]
  },
  {
   "cell_type": "code",
   "execution_count": 146,
   "metadata": {},
   "outputs": [
    {
     "data": {
      "text/plain": [
       "[0, 50000, 0, 10000000]"
      ]
     },
     "execution_count": 146,
     "metadata": {},
     "output_type": "execute_result"
    },
    {
     "data": {
      "image/png": "[encoded data removed]",
      "text/plain": [
       "<Figure size 432x288 with 1 Axes>"
      ]
     },
     "metadata": {},
     "output_type": "display_data"
    }
   ],
   "source": [
    "import matplotlib.pyplot as plt\n",
    "import numpy as pd\n",
    "%matplotlib inline\n",
    "\n",
    "plt.plot(range(cost.shape[0]) ,cost)\n",
    "plt.ylabel('Cost Function')\n",
    "plt.xlabel('Iterations')\n",
    "plt.axis([0,50000,0,10000000])\n"
   ]
  },
  {
   "cell_type": "markdown",
   "metadata": {},
   "source": [
    "### Modelo 3 : Removidas as features que não aparentam influenciar no preço, com as restantes elevadas ao quadrado"
   ]
  },
  {
   "cell_type": "code",
   "execution_count": 149,
   "metadata": {},
   "outputs": [],
   "source": [
    "from sklearn.metrics import mean_squared_error\n",
    "from sklearn.linear_model import SGDRegressor\n",
    "\n",
    "initial_x3, initial_y3 = getTrainSet()\n",
    "initial_x3 = initial_x3[:, [0, x, y, z, x2, y2, z2, carat2]]\n",
    "\n",
    "indices_generator = generate_sets(initial_x3)\n",
    "theta3 = np.zeros((5,initial_x3.shape[1],1))\n",
    "error3 = np.zeros((5,1))\n",
    "error3_n = np.zeros((5,1)) \n",
    "i=0\n",
    "for train_index, val_index in indices_generator:\n",
    "    #dados de treino e de validacao\n",
    "    x3_train = initial_x3[train_index]\n",
    "    y3_train = initial_y3[train_index]\n",
    "    x3_val = initial_x3[val_index]\n",
    "    y3_val = initial_y3[val_index]\n",
    "    \n",
    "    theta3[i] = LinRegBatchGradientDescent(x3_train,y3_train,500000,0.00001)\n",
    "    thetaNormal = NormalEquation(x3_train,y3_train)\n",
    "\n",
    "    # error from validation\n",
    "    y3_predict = x3_val.dot(theta3[i])\n",
    "    y3_n_predict = x3_val.dot(thetaNormal)\n",
    "    error3[i] = mean_squared_error(y3_val, y3_predict)\n",
    "    error3_n[i] = mean_squared_error(y3_val, y3_n_predict)/2\n",
    "    i += 1"
   ]
  },
  {
   "cell_type": "code",
   "execution_count": 152,
   "metadata": {},
   "outputs": [
    {
     "name": "stdout",
     "output_type": "stream",
     "text": [
      "Iteracao  1\n",
      "\tErro pelo Gradient Descent: 8664567\n",
      "\tErro pela Equacao Normal:   1127047\n",
      "Iteracao  2\n",
      "\tErro pelo Gradient Descent: 8875717\n",
      "\tErro pela Equacao Normal:   1125787\n",
      "Iteracao  3\n",
      "\tErro pelo Gradient Descent: 9242535\n",
      "\tErro pela Equacao Normal:   1137736\n",
      "Iteracao  4\n",
      "\tErro pelo Gradient Descent: 8928808\n",
      "\tErro pela Equacao Normal:   356197568\n",
      "Iteracao  5\n",
      "\tErro pelo Gradient Descent: 8597337\n",
      "\tErro pela Equacao Normal:   1124735\n",
      "Media erros GD: 8861793\n",
      "Media erros EN: 72142575\n"
     ]
    }
   ],
   "source": [
    "np.set_printoptions(precision=1)\n",
    "for i in range(5):\n",
    "    print(\"Iteracao \", i+1,)\n",
    "    print(\"\\tErro pelo Gradient Descent:\", int(error3[i]) )\n",
    "    print(\"\\tErro pela Equacao Normal:  \" , int(error3_n[i]) )\n",
    "\n",
    "print(\"Media erros GD:\", int(np.mean(error3)) )\n",
    "print(\"Media erros EN:\", int(np.mean(error3_n)) )"
   ]
  },
  {
   "cell_type": "markdown",
   "metadata": {},
   "source": [
    "### Modelo 4: Features sem influência aparente em graus lineares, features restantes elevadas ao quadrado"
   ]
  },
  {
   "cell_type": "code",
   "execution_count": 153,
   "metadata": {},
   "outputs": [],
   "source": [
    "from sklearn.metrics import mean_squared_error\n",
    "\n",
    "initial_x4,initial_y4 = getTrainSet()\n",
    "initial_x4 = initial_x4[:, [0, x, y, z, table, depth, clarity, color, cut, carat, x2, y2, z2, carat2]]\n",
    "\n",
    "indices_generator = generate_sets(initial_x4)\n",
    "theta4 = np.zeros((5,initial_x4.shape[1],1))\n",
    "error4 = np.zeros((5,1))\n",
    "error4_n = np.zeros((5,1)) \n",
    "i=0\n",
    "for train_index, val_index in indices_generator:\n",
    "    #dados de treino e de validacao\n",
    "    x4_train = initial_x4[train_index]\n",
    "    y4_train = initial_y4[train_index]\n",
    "    x4_val = initial_x4[val_index]\n",
    "    y4_val = initial_y4[val_index]\n",
    "     \n",
    "    theta4[i] = LinRegBatchGradientDescent(x4_train,y4_train,300000,0.0001)\n",
    "    thetaNormal = NormalEquation(x4_train,y4_train)\n",
    "    \n",
    "    #error from validation\n",
    "    y4_predict = x4_val.dot(theta4[i])\n",
    "    y4_n_predict = x4_val.dot(thetaNormal)\n",
    "    error4[i] = mean_squared_error(y4_val, y4_predict)\n",
    "    error4_n[i] = mean_squared_error(y4_val, y4_n_predict)/2\n",
    "    i += 1"
   ]
  },
  {
   "cell_type": "code",
   "execution_count": 154,
   "metadata": {},
   "outputs": [
    {
     "name": "stdout",
     "output_type": "stream",
     "text": [
      "Iteracao  1\n",
      "\tErro pelo Gradient Descent: 2473815\n",
      "\tErro pela Equacao Normal:   723311\n",
      "Iteracao  2\n",
      "\tErro pelo Gradient Descent: 2493478\n",
      "\tErro pela Equacao Normal:   723502\n",
      "Iteracao  3\n",
      "\tErro pelo Gradient Descent: 2694872\n",
      "\tErro pela Equacao Normal:   756568\n",
      "Iteracao  4\n",
      "\tErro pelo Gradient Descent: 2538688\n",
      "\tErro pela Equacao Normal:   346579200\n",
      "Iteracao  5\n",
      "\tErro pelo Gradient Descent: 2448685\n",
      "\tErro pela Equacao Normal:   713384\n",
      "Media erros GD: 2529907\n",
      "Media erros EN: 69899193\n"
     ]
    }
   ],
   "source": [
    "np.set_printoptions(precision=1)\n",
    "for i in range(5):\n",
    "    print(\"Iteracao \", i+1,)\n",
    "    print(\"\\tErro pelo Gradient Descent:\", int(error4[i]) )\n",
    "    print(\"\\tErro pela Equacao Normal:  \" , int(error4_n[i]) )\n",
    "\n",
    "print(\"Media erros GD:\", int(np.mean(error4)) )\n",
    "print(\"Media erros EN:\", int(np.mean(error4_n)) )"
   ]
  },
  {
   "cell_type": "markdown",
   "metadata": {},
   "source": [
    "### Modelo 5: Features sem influência aparente em graus lineares, features restantes com graus superlineares acima de 2 "
   ]
  },
  {
   "cell_type": "code",
   "execution_count": 230,
   "metadata": {},
   "outputs": [],
   "source": [
    "from sklearn.metrics import mean_squared_error\n",
    "\n",
    "initial_x5,y5 = getTrainSet()\n",
    "x5 = initial_x5[:, [0, x, y, z, table, depth, clarity, color, cut, carat, x2, y2, z2, carat2, y3, z3, y4, z4 ]]\n",
    "\n",
    "indices_generator = generate_sets(x5)\n",
    "theta5 = np.zeros((5,x5.shape[1],1))\n",
    "error5 = np.zeros((5,1))\n",
    "error5_n = np.zeros((5,1)) \n",
    "i=0\n",
    "for train_index, val_index in indices_generator:\n",
    "    #dados de treino e de validacao\n",
    "    x5_train = x5[train_index]\n",
    "    y5_train = y5[train_index]\n",
    "    x5_val = x5[val_index]\n",
    "    y5_val = y5[val_index]\n",
    "     \n",
    "    theta5[i], cost, cost_val = LinRegBatchGradientDescentCostPerIteraction(x5_train,y5_train, x5_val, y5_val, 500000,0.0001)\n",
    "    thetaNormal = NormalEquation(x5_train,y5_train)\n",
    "    \n",
    "    #error from validation\n",
    "    y5_predict = x5_val.dot(theta5[i])\n",
    "    y5_n_predict = x5_val.dot(thetaNormal)\n",
    "    error5[i] = mean_squared_error(y5_val, y5_predict)\n",
    "    error5_n[i] = mean_squared_error(y5_val, y5_n_predict)/2\n",
    "    i += 1"
   ]
  },
  {
   "cell_type": "code",
   "execution_count": 236,
   "metadata": {
    "scrolled": false
   },
   "outputs": [
    {
     "data": {
      "text/plain": [
       "[0, 40000, 0, 10000000]"
      ]
     },
     "execution_count": 236,
     "metadata": {},
     "output_type": "execute_result"
    },
    {
     "data": {
      "image/png": "[encoded data removed]",
      "text/plain": [
       "<Figure size 432x288 with 1 Axes>"
      ]
     },
     "metadata": {},
     "output_type": "display_data"
    }
   ],
   "source": [
    "import matplotlib.pyplot as plt\n",
    "import numpy as pd\n",
    "%matplotlib inline\n",
    "\n",
    "plt.plot(range(cost.shape[0]) ,cost)\n",
    "plt.plot(range(cost_val.shape[0]), cost_val)\n",
    "plt.ylabel('Cost Function')\n",
    "plt.xlabel('Iterations / 10')\n",
    "plt.axis([0,40000,0,10000000])"
   ]
  },
  {
   "cell_type": "code",
   "execution_count": 233,
   "metadata": {
    "collapsed": true
   },
   "outputs": [
    {
     "name": "stdout",
     "output_type": "stream",
     "text": [
      "[[[3937.4205 ]\n",
      "  [8188.17702]\n",
      "  [ 765.71187]\n",
      "  [5485.76745]\n",
      "  [ 180.50802]\n",
      "  [-136.71394]\n",
      "  [1832.59917]\n",
      "  [ 589.06687]\n",
      "  [ 471.65213]\n",
      "  [4883.49055]\n",
      "  [ 151.09163]\n",
      "  [3886.32633]\n",
      "  [-126.37231]\n",
      "  [-368.43335]\n",
      "  [2625.07261]\n",
      "  [-116.23091]\n",
      "  [1716.39981]\n",
      "  [-106.46308]]\n",
      "\n",
      " [[3933.99295]\n",
      "  [8166.50581]\n",
      "  [ 765.61625]\n",
      "  [5435.76946]\n",
      "  [ 180.51836]\n",
      "  [-140.05384]\n",
      "  [1804.62806]\n",
      "  [ 567.69862]\n",
      "  [ 467.9431 ]\n",
      "  [4881.56771]\n",
      "  [ 151.14853]\n",
      "  [3864.60643]\n",
      "  [-129.22093]\n",
      "  [-370.90575]\n",
      "  [2613.52382]\n",
      "  [-118.66893]\n",
      "  [1709.80346]\n",
      "  [-108.52185]]\n",
      "\n",
      " [[3927.17775]\n",
      "  [8162.81382]\n",
      "  [ 765.15271]\n",
      "  [5446.94918]\n",
      "  [ 173.57587]\n",
      "  [-128.49398]\n",
      "  [1816.83803]\n",
      "  [ 575.5636 ]\n",
      "  [ 448.32805]\n",
      "  [4847.74331]\n",
      "  [ 150.58359]\n",
      "  [3858.34405]\n",
      "  [-118.95407]\n",
      "  [-351.37845]\n",
      "  [2605.75168]\n",
      "  [-109.54786]\n",
      "  [1703.66828]\n",
      "  [-100.38959]]\n",
      "\n",
      " [[3927.83178]\n",
      "  [8163.0632 ]\n",
      "  [ 771.35664]\n",
      "  [5457.83216]\n",
      "  [ 162.95119]\n",
      "  [-127.62088]\n",
      "  [1798.03126]\n",
      "  [ 577.66683]\n",
      "  [ 480.57504]\n",
      "  [4880.4418 ]\n",
      "  [ 157.06402]\n",
      "  [3877.6211 ]\n",
      "  [-118.55565]\n",
      "  [-383.57994]\n",
      "  [2625.23357]\n",
      "  [-109.43544]\n",
      "  [1720.94612]\n",
      "  [-100.46589]]\n",
      "\n",
      " [[3936.19498]\n",
      "  [8188.87681]\n",
      "  [ 767.57645]\n",
      "  [5461.23982]\n",
      "  [ 170.13371]\n",
      "  [-123.15875]\n",
      "  [1820.53609]\n",
      "  [ 566.18672]\n",
      "  [ 464.22807]\n",
      "  [4887.13973]\n",
      "  [ 151.32361]\n",
      "  [3878.33721]\n",
      "  [-114.60743]\n",
      "  [-370.21312]\n",
      "  [2623.45488]\n",
      "  [-106.04826]\n",
      "  [1717.45703]\n",
      "  [ -97.59562]]]\n"
     ]
    }
   ],
   "source": [
    "np.set_printoptions(precision=5)\n",
    "print(theta5)"
   ]
  },
  {
   "cell_type": "code",
   "execution_count": 234,
   "metadata": {},
   "outputs": [
    {
     "name": "stdout",
     "output_type": "stream",
     "text": [
      "Iteracao  1\n",
      "\tErro pelo Gradient Descent: 2247458\n",
      "\tErro pela Equacao Normal:   656820\n",
      "Iteracao  2\n",
      "\tErro pelo Gradient Descent: 2228047\n",
      "\tErro pela Equacao Normal:   669912\n",
      "Iteracao  3\n",
      "\tErro pelo Gradient Descent: 2417883\n",
      "\tErro pela Equacao Normal:   665399\n",
      "Iteracao  4\n",
      "\tErro pelo Gradient Descent: 2289713\n",
      "\tErro pela Equacao Normal:   137274727\n",
      "Iteracao  5\n",
      "\tErro pelo Gradient Descent: 2210115\n",
      "\tErro pela Equacao Normal:   650203\n",
      "Media erros GD: 2278643\n",
      "Media erros EN: 27983412\n"
     ]
    }
   ],
   "source": [
    "np.set_printoptions(precision=1)\n",
    "for i in range(5):\n",
    "    print(\"Iteracao \", i+1,)\n",
    "    print(\"\\tErro pelo Gradient Descent:\", int(error5[i]) )\n",
    "    print(\"\\tErro pela Equacao Normal:  \" , int(error5_n[i]) )\n",
    "\n",
    "print(\"Media erros GD:\", int(np.mean(error5)) )\n",
    "print(\"Media erros EN:\", int(np.mean(error5_n)) )"
   ]
  },
  {
   "cell_type": "code",
   "execution_count": null,
   "metadata": {
    "scrolled": true
   },
   "outputs": [],
   "source": [
    "# theta_test_aux = theta5\n",
    "# cost5 = cost\n",
    "# cost5_val = cost_val\n",
    "\n",
    "# print(cost5_val)"
   ]
  },
  {
   "cell_type": "markdown",
   "metadata": {},
   "source": [
    "# Teste"
   ]
  },
  {
   "cell_type": "code",
   "execution_count": 256,
   "metadata": {
    "scrolled": true
   },
   "outputs": [],
   "source": [
    "from sklearn.metrics import mean_squared_error\n",
    "\n",
    "initial_x_test,y_test = getTestSet()\n",
    "x_test = initial_x_test[:, [0, x, y, z, table, depth, clarity, color, cut, carat, x2, y2, z2, carat2, y3, z3, y4, z4 ]]\n",
    "\n",
    "theta_test = np.mean(theta5, axis=0)\n",
    "\n",
    "y_test_predict = x_test.dot(theta_test)\n",
    "y_test_n_predict = x_test.dot(thetaNormal)\n",
    "# print(y_test.shape)\n",
    "error_test = mean_squared_error(y_test, y_test_predict)\n",
    "error_test_n = mean_squared_error(y_test, y_test_n_predict)/2\n"
   ]
  },
  {
   "cell_type": "code",
   "execution_count": 257,
   "metadata": {},
   "outputs": [
    {
     "name": "stdout",
     "output_type": "stream",
     "text": [
      "\tErro pelo Gradient Descent: 3380401\n",
      "\tErro pela Equacao Normal:   7939853\n",
      "Media erros GD: 3380401\n",
      "Media erros EN: 7939853\n"
     ]
    }
   ],
   "source": [
    "np.set_printoptions(precision=1)\n",
    "print(\"\\tErro pelo Gradient Descent:\", int(error_test) )\n",
    "print(\"\\tErro pela Equacao Normal:  \" , int(error_test_n) )\n",
    "\n",
    "print(\"Media erros GD:\", int(np.mean(error_test)) )\n",
    "print(\"Media erros EN:\", int(np.mean(error_test_n)) )"
   ]
  },
  {
   "cell_type": "code",
   "execution_count": 260,
   "metadata": {},
   "outputs": [],
   "source": [
    "# Usando scikit-learn\n",
    "\n",
    "sgd_reg = SGDRegressor(max_iter=500000, penalty=None, eta0=0.0001, verbose=0, learning_rate='constant')\n",
    "sgd_reg.fit(x5, y5)\n",
    "\n",
    "prediction = sgd_reg.predict(x_test)\n"
   ]
  },
  {
   "cell_type": "code",
   "execution_count": 261,
   "metadata": {
    "scrolled": true
   },
   "outputs": [
    {
     "data": {
      "text/plain": [
       "array([2948.7, 5753.3, 6534.5, ..., 1990.3, 1348.6, 1070.1])"
      ]
     },
     "execution_count": 261,
     "metadata": {},
     "output_type": "execute_result"
    }
   ],
   "source": [
    "prediction"
   ]
  },
  {
   "cell_type": "code",
   "execution_count": 262,
   "metadata": {},
   "outputs": [
    {
     "name": "stdout",
     "output_type": "stream",
     "text": [
      "2004407.1266561996\n"
     ]
    }
   ],
   "source": [
    "error_scikit = mean_squared_error(y_test, prediction)\n",
    "print(error_scikit)"
   ]
  }
 ],
 "metadata": {
  "kernelspec": {
   "display_name": "Python 3",
   "language": "python",
   "name": "python3"
  },
  "language_info": {
   "codemirror_mode": {
    "name": "ipython",
    "version": 3
   },
   "file_extension": ".py",
   "mimetype": "text/x-python",
   "name": "python",
   "nbconvert_exporter": "python",
   "pygments_lexer": "ipython3",
   "version": "3.6.5"
  }
 },
 "nbformat": 4,
 "nbformat_minor": 2
}
