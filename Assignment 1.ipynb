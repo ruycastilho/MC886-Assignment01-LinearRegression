{
 "cells": [
  {
   "cell_type": "code",
   "execution_count": 1,
   "metadata": {},
   "outputs": [],
   "source": [
    "import pandas as pd\n",
    "import os\n",
    "\n",
    "def load_diamond_data():\n",
    "    csv_path = os.path.join(\"diamonds-dataset\", \"diamonds-train.csv\")\n",
    "    return pd.read_csv(csv_path)"
   ]
  },
  {
   "cell_type": "code",
   "execution_count": 2,
   "metadata": {},
   "outputs": [],
   "source": [
    "#Carrega os dados de treino e faz feature scaling(depth, table)\n",
    "import numpy as np\n",
    "diamond_data = load_diamond_data()\n",
    "diamond_data[\"depth\"] = (diamond_data[\"depth\"] / 10)\n",
    "diamond_data[\"table\"] = (diamond_data[\"table\"] / 10)"
   ]
  },
  {
   "cell_type": "code",
   "execution_count": 3,
   "metadata": {
    "scrolled": true
   },
   "outputs": [],
   "source": [
    "#dummy coding(cut,color,clarity)\n",
    "from sklearn.preprocessing import LabelEncoder\n",
    "diamond_data = load_diamond_data()\n",
    "diamond_data[\"depth\"] = diamond_data[\"depth\"] / 10\n",
    "diamond_data[\"table\"] = diamond_data[\"table\"] / 10\n",
    "\n",
    "enumValues = {\"cut\": {\"Fair\":0, \"Good\":1, \"Very Good\":2, \"Premium\":3, \"Ideal\":4},\n",
    "              \"color\": {\"J\": 0, \"I\":1, \"H\":2, \"G\":3, \"F\":4, \"E\":5, \"D\":6},\n",
    "              \"clarity\": {\"I1\":0, \"SI2\":1, \"SI1\":2, \"VS2\":3, \"VS1\":4,\"VVS2\":5, \"VVS1\":6, \"IF\":7}}\n",
    "diamond_data.replace(enumValues, inplace=True)\n"
   ]
  },
  {
   "cell_type": "code",
   "execution_count": 4,
   "metadata": {},
   "outputs": [],
   "source": [
    "# Normal Equation\n",
    "\n",
    "def NormalEquation(X, y):\n",
    "\n",
    "    transpose = X.T\n",
    "\n",
    "    mult1 = transpose.dot(X)\n",
    "\n",
    "    try:\n",
    "        inverse = np.linalg.inv(mult1)\n",
    "\n",
    "    except np.linalg.LinAlgError:\n",
    "        print(\"Not invertible\")\n",
    "        return np.zeros(1,1)\n",
    "\n",
    "    else:\n",
    "        mult2 = (inverse.dot(transpose)).dot(y)\n",
    "        return mult2\n"
   ]
  },
  {
   "cell_type": "code",
   "execution_count": 5,
   "metadata": {},
   "outputs": [],
   "source": [
    "import numpy as np\n",
    "\n",
    "#function add a first column filled with 1's and delete de last colum\n",
    "def prepareSet(setToPrepare):\n",
    "    X = np.array(setToPrepare)\n",
    "\n",
    "    X = np.delete(X, -1, axis=1)\n",
    "\n",
    "    X = np.c_[np.ones((len(X), 1)),X]\n",
    "\n",
    "    y = np.array(setToPrepare[\"price\"])\n",
    "\n",
    "    return X,y"
   ]
  },
  {
   "cell_type": "code",
   "execution_count": 6,
   "metadata": {},
   "outputs": [],
   "source": [
    "# #grafico Carat X Price\n",
    "# import matplotlib.pyplot as plt\n",
    "# plt.scatter(diamond_data[\"carat\"], diamond_data[\"price\"])\n",
    "# plt.xlabel(\"$carat$\", fontsize=18)\n",
    "# plt.ylabel(\"$price(U$)$\", fontsize=18)\n",
    "# plt.show()"
   ]
  },
  {
   "cell_type": "code",
   "execution_count": 7,
   "metadata": {
    "scrolled": true
   },
   "outputs": [],
   "source": [
    "# #grafico Cut X Price\n",
    "# import matplotlib.pyplot as plt\n",
    "# plt.scatter(diamond_data[\"cut\"], diamond_data[\"price\"])\n",
    "# plt.xlabel(\"$cut$\", fontsize=18)\n",
    "# plt.ylabel(\"$price$\", fontsize=18)\n",
    "# plt.show()"
   ]
  },
  {
   "cell_type": "code",
   "execution_count": 8,
   "metadata": {},
   "outputs": [],
   "source": [
    "# #grafico  Color X Price\n",
    "# import matplotlib.pyplot as plt\n",
    "# plt.scatter(diamond_data[\"color\"], diamond_data[\"price\"])\n",
    "# plt.xlabel(\"$color$\", fontsize=18)\n",
    "# plt.ylabel(\"$price$\", fontsize=18)\n",
    "# plt.show()"
   ]
  },
  {
   "cell_type": "code",
   "execution_count": 9,
   "metadata": {},
   "outputs": [],
   "source": [
    "# #grafico Clarity X Price\n",
    "# import matplotlib.pyplot as plt\n",
    "# plt.scatter(diamond_data[\"clarity\"], diamond_data[\"price\"])\n",
    "# plt.xlabel(\"$clarity$\", fontsize=18)\n",
    "# plt.ylabel(\"$price$\", fontsize=18)\n",
    "# plt.show()"
   ]
  },
  {
   "cell_type": "code",
   "execution_count": 10,
   "metadata": {},
   "outputs": [],
   "source": [
    "# #grafico Depth X Price\n",
    "# import matplotlib.pyplot as plt\n",
    "# plt.scatter(diamond_data[\"depth\"], diamond_data[\"price\"])\n",
    "# plt.xlabel(\"$depth$\", fontsize=18)\n",
    "# plt.ylabel(\"$price$\", fontsize=18)\n",
    "# plt.show()"
   ]
  },
  {
   "cell_type": "code",
   "execution_count": 11,
   "metadata": {},
   "outputs": [],
   "source": [
    "# #grafico table X Price\n",
    "# import matplotlib.pyplot as plt\n",
    "# plt.scatter(diamond_data[\"table\"], diamond_data[\"price\"])\n",
    "# plt.xlabel(\"$table$\", fontsize=18)\n",
    "# plt.ylabel(\"$price$\", fontsize=18)\n",
    "# plt.show()"
   ]
  },
  {
   "cell_type": "code",
   "execution_count": 12,
   "metadata": {},
   "outputs": [],
   "source": [
    "# #grafico x X Price\n",
    "# import matplotlib.pyplot as plt\n",
    "# plt.scatter(diamond_data[\"x\"], diamond_data[\"price\"])\n",
    "# plt.xlabel(\"$x$\", fontsize=18)\n",
    "# plt.ylabel(\"$price$\", fontsize=18)\n",
    "# plt.show()"
   ]
  },
  {
   "cell_type": "code",
   "execution_count": 13,
   "metadata": {},
   "outputs": [],
   "source": [
    "# #grafico y X Price\n",
    "# import matplotlib.pyplot as plt\n",
    "# plt.scatter(diamond_data[\"y\"], diamond_data[\"price\"])\n",
    "# plt.xlabel(\"$y$\", fontsize=18)\n",
    "# plt.ylabel(\"$price$\", fontsize=18)\n",
    "# plt.show()"
   ]
  },
  {
   "cell_type": "code",
   "execution_count": 14,
   "metadata": {},
   "outputs": [],
   "source": [
    "# #grafico z X Price\n",
    "# import matplotlib.pyplot as plt\n",
    "# plt.scatter(diamond_data[\"z\"], diamond_data[\"price\"])\n",
    "# plt.xlabel(\"$z$\", fontsize=18)\n",
    "# plt.ylabel(\"$price$\", fontsize=18)\n",
    "# plt.show()"
   ]
  },
  {
   "cell_type": "code",
   "execution_count": 15,
   "metadata": {},
   "outputs": [],
   "source": [
    "# Cross Validation Generation\n",
    "\n",
    "# PRECISA CHAMAR ISSO ANTES DE CHAMAR A FUNCAO --- \n",
    "#                             TRAINING_DATA = prepareSet(diamond_data) \n",
    "\n",
    "from sklearn.model_selection import train_test_split, KFold\n",
    "\n",
    "#essa funcao retorna um gerador de indices\n",
    "def generate_sets(TRAINING_DATA,type='kfold'):\n",
    "\n",
    "    # Cross validation using train_test_split\n",
    "    if (type == 'split'):\n",
    "       return train_test_split(TRAINING_DATA,test_size=0.2,random_state=0)\n",
    "\n",
    "    # Cross validation using K-Fold\n",
    "    # K = 5, Shuffle = true, Seed = 21\n",
    "    elif (type == 'kfold'):\n",
    "        kfold_seed = 21\n",
    "\n",
    "        kfold = KFold(n_splits=5, shuffle=True, random_state=kfold_seed)\n",
    "        return kfold.split(TRAINING_DATA)"
   ]
  },
  {
   "cell_type": "markdown",
   "metadata": {},
   "source": [
    "## Explicação do uso do generate_sets"
   ]
  },
  {
   "cell_type": "code",
   "execution_count": 16,
   "metadata": {
    "scrolled": true
   },
   "outputs": [],
   "source": [
    "\n",
    "# import numpy as np\n",
    "# from sklearn.model_selection import train_test_split, KFold\n",
    "\n",
    "# X = np.array([[10, 20], [30, 40], [50, 60], [70, 80], [90, 100], [110, 120], [130, 140], [150, 160], [170, 180], [190, 200]])\n",
    "# y = np.array(['a', 'b', 'c', 'd', 'e', 'f', 'g', 'h', 'i', 'j'])\n",
    "\n",
    "# #esse b vai ser um gerador, não precisa passar y pois ele gera somente os indices\n",
    "# b = generate_sets(X)\n",
    "\n",
    "# #precisa percorrer ele com 2 indices, um representa o treino, outro o test, \n",
    "# # na proxima iteracao ele ja vai estar num agrupamento diferente\n",
    "# for train_index, val_index in b:\n",
    "#     x_train = X[train_index]\n",
    "#     y_train = y[train_index]\n",
    "#     x_val = X[val_index]\n",
    "#     y_val = y[val_index]\n",
    "#     print(x_train, y_train)\n",
    "#     print(x_val, y_val)\n",
    "#     print(\"-----\")\n",
    "    \n"
   ]
  },
  {
   "cell_type": "code",
   "execution_count": 17,
   "metadata": {},
   "outputs": [],
   "source": [
    "#implementation Linear Regression using Mini-Batch Gradient Descent\n",
    "def LinRegMiniGradientDescent(TRAIN_SET, TARGET_SET, N_ITERATION, LEARNING_RATE, SIZE_BATCH):\n",
    "    np.random.seed(42)\n",
    "    theta = np.random.randn(10,1) #random initialization\n",
    "    for iteration in range(N_ITERATIONS):\n",
    "        shuffle_indices = np.random.permutation(TRAIN_SET.shape[0])\n",
    "        train_shuffled = TRAIN_SET[shuffled_indices]\n",
    "        target_shuffled = TARGET_SET[shuffled_indices]\n",
    "        for i in range(0,TARGET_SET.shape[0], SIZE_BATCH):\n",
    "            xi = train_shuffled[i:i+SIZE_BATCH]\n",
    "            yi = target_shuffled[i:i+SIZE_BATCH]\n",
    "            gradients = 2/SIZE_BATCH * xi.T.dot(xi.dot(theta) - yi)\n",
    "            theta = theta - LEARNING_RATE * gradients\n",
    "    return theta"
   ]
  },
  {
   "cell_type": "markdown",
   "metadata": {},
   "source": [
    "## FUNCAO BATCH GD"
   ]
  },
  {
   "cell_type": "code",
   "execution_count": 18,
   "metadata": {},
   "outputs": [],
   "source": [
    "import numpy as np\n",
    "import random\n",
    "\n",
    "\n",
    "def LinRegBatchGradientDescent(x, y, numIterations, learningRate):\n",
    "    xTrans = x.transpose()\n",
    "    theta = np.random.randn(x.shape[1],1) #random initialization\n",
    "    m = x.shape[0]\n",
    "    y = y.reshape((y.shape[0],1))\n",
    "    for i in range(numIterations):\n",
    "        hypothesis = np.dot(x, theta)\n",
    "        loss = hypothesis - y\n",
    "        cost = np.sum(loss ** 2) / (2 * m)\n",
    "        gradient = np.dot(xTrans, loss) / m\n",
    "        theta = theta - learningRate * gradient\n",
    "    return theta"
   ]
  },
  {
   "cell_type": "markdown",
   "metadata": {},
   "source": [
    "## FUNCAO BATCH GD E CUSTO POR ITERACAO"
   ]
  },
  {
   "cell_type": "code",
   "execution_count": 19,
   "metadata": {},
   "outputs": [],
   "source": [
    "import numpy as np\n",
    "import random\n",
    "\n",
    "\n",
    "def LinRegBatchGradientDescentCostPerIteraction(x, y, numIterations, learningRate):\n",
    "    xTrans = x.transpose()\n",
    "    theta = np.random.randn(x.shape[1],1) #random initialization\n",
    "    m = x.shape[0]\n",
    "    y = y.reshape((y.shape[0],1))\n",
    "    cost = np.zeros((numIterations,1))\n",
    "    for i in range(numIterations):\n",
    "        hypothesis = np.dot(x, theta)\n",
    "        loss = hypothesis - y\n",
    "        cost[i] = np.sum(loss ** 2) / (2 * m)\n",
    "        gradient = np.dot(xTrans, loss) / m\n",
    "        theta = theta - learningRate * gradient\n",
    "    return theta, cost"
   ]
  },
  {
   "cell_type": "markdown",
   "metadata": {},
   "source": [
    "# Proximos 4 celulas e pra mostrar que o nosso LinRegBatchGradientDescent funciona"
   ]
  },
  {
   "cell_type": "code",
   "execution_count": 20,
   "metadata": {},
   "outputs": [],
   "source": [
    "##DATA SET PARA testar A FUNCAO DEPOIS\n",
    "import numpy as np\n",
    "import numpy.random as rnd\n",
    "\n",
    "np.random.seed(42)\n",
    "X = 2 * rnd.rand(100,1)\n",
    "y = 4 + 3 * X + rnd.randn(100,1)"
   ]
  },
  {
   "cell_type": "code",
   "execution_count": 21,
   "metadata": {},
   "outputs": [
    {
     "data": {
      "text/plain": [
       "array([[4.21509616],\n",
       "       [2.77011339]])"
      ]
     },
     "execution_count": 21,
     "metadata": {},
     "output_type": "execute_result"
    }
   ],
   "source": [
    "import numpy.linalg as LA\n",
    "\n",
    "X_b = np.c_[np.ones((100, 1)), X] # add x0 = 1 to each instance\n",
    "theta_best = LA.inv(X_b.T.dot(X_b)).dot(X_b.T).dot(y)\n",
    "theta_best"
   ]
  },
  {
   "cell_type": "code",
   "execution_count": 22,
   "metadata": {},
   "outputs": [
    {
     "data": {
      "text/plain": [
       "(array([4.21413037]), array([2.77067691]))"
      ]
     },
     "execution_count": 22,
     "metadata": {},
     "output_type": "execute_result"
    }
   ],
   "source": [
    "from sklearn.linear_model import SGDRegressor\n",
    "\n",
    "sgd_reg = SGDRegressor(max_iter=1000, penalty=None, eta0=0.1)\n",
    "sgd_reg.fit(X, y.ravel())\n",
    "sgd_reg.intercept_, sgd_reg.coef_"
   ]
  },
  {
   "cell_type": "code",
   "execution_count": 23,
   "metadata": {},
   "outputs": [
    {
     "data": {
      "text/plain": [
       "numpy.ndarray"
      ]
     },
     "execution_count": 23,
     "metadata": {},
     "output_type": "execute_result"
    }
   ],
   "source": [
    "theta, error = LinRegBatchGradientDescent(X_b,y,100,0.1)\n",
    "type(y)"
   ]
  },
  {
   "cell_type": "markdown",
   "metadata": {},
   "source": [
    " --------------------------------------------------------"
   ]
  },
  {
   "cell_type": "markdown",
   "metadata": {},
   "source": [
    "### Plotar CostFunction x Iteration"
   ]
  },
  {
   "cell_type": "code",
   "execution_count": 24,
   "metadata": {},
   "outputs": [],
   "source": [
    "\n",
    "# import matplotlib.pyplot as plt\n",
    "# import numpy as pd\n",
    "# %matplotlib inline\n",
    "# theta, error = LinRegBatchGradientDescent(X_b,y,100,0.1)\n",
    "# print(theta)\n",
    "# plt.plot(np.arange(error.shape[0]) ,error)\n",
    "# plt.ylabel('Cost Function')\n",
    "# plt.xlabel('Iterations')\n",
    "# plt.axis([0,20,0,100])\n",
    "\n"
   ]
  },
  {
   "cell_type": "markdown",
   "metadata": {},
   "source": [
    "________________________________"
   ]
  },
  {
   "cell_type": "markdown",
   "metadata": {},
   "source": [
    "# ideias de modelos\n",
    "usando todas as features\n",
    "<br>\n",
    "&nbsp;&nbsp;normal\n",
    "&nbsp;&nbsp;ao quadrado\n",
    "<br>\n",
    "tirando as features que nao aparentam influenciar\n",
    "<br>\n",
    "&nbsp;&nbsp;normal\n",
    "&nbsp;&nbsp; ao quadrado\n"
   ]
  },
  {
   "cell_type": "markdown",
   "metadata": {},
   "source": [
    "### MODELO 1 : Modelo com todas as features"
   ]
  },
  {
   "cell_type": "code",
   "execution_count": 32,
   "metadata": {
    "scrolled": false
   },
   "outputs": [],
   "source": [
    "from sklearn.metrics import mean_squared_error\n",
    "\n",
    "x1,y1 = prepareSet(diamond_data)\n",
    "indices_generator = generate_sets(x1)\n",
    "theta1 = np.zeros((5,x1.shape[1],1))\n",
    "error1 = np.zeros((5,1))\n",
    "error1_n = np.zeros((5,1)) \n",
    "i=0\n",
    "for train_index, val_index in indices_generator:\n",
    "    #dados de treino e de validacao\n",
    "    x1_train = x1[train_index]\n",
    "    y1_train = y1[train_index]\n",
    "    x1_val = x1[val_index]\n",
    "    y1_val = y1[val_index]\n",
    "     \n",
    "    theta1[i],cost = LinRegBatchGradientDescentCostPerIteraction(x1_train,y1_train,10000,0.001)\n",
    "    thetaNormal = NormalEquation(x1_train,y1_train)\n",
    "    \n",
    "    #error from validation\n",
    "    y1_predict = x1_val.dot(theta1[i])\n",
    "    y1_n_predict = x1_val.dot(thetaNormal)\n",
    "    error1[i] = mean_squared_error(y1_val, y1_predict)\n",
    "    error1_n[i] = mean_squared_error(y1_val, y1_n_predict)/2\n",
    "    i += 1\n",
    "\n",
    "\n"
   ]
  },
  {
   "cell_type": "code",
   "execution_count": 33,
   "metadata": {},
   "outputs": [
    {
     "name": "stdout",
     "output_type": "stream",
     "text": [
      "Iteracao  1\n",
      "\tErro pelo Gradient Descent: 2270090\n",
      "\tErro pela Equacao Normal:    724963\n",
      "Iteracao  2\n",
      "\tErro pelo Gradient Descent: 2273771\n",
      "\tErro pela Equacao Normal:    732478\n",
      "Iteracao  3\n",
      "\tErro pelo Gradient Descent: 2452007\n",
      "\tErro pela Equacao Normal:    771709\n",
      "Iteracao  4\n",
      "\tErro pelo Gradient Descent: 2749375\n",
      "\tErro pela Equacao Normal:    897075\n",
      "Iteracao  5\n",
      "\tErro pelo Gradient Descent: 2259641\n",
      "\tErro pela Equacao Normal:    720242\n",
      "Media erros GD: 2400977\n",
      "Media erros EN:  769293\n"
     ]
    }
   ],
   "source": [
    "np.set_printoptions(precision=1)\n",
    "for i in range(5):\n",
    "    print(\"Iteracao \", i+1,)\n",
    "    print(\"\\tErro pelo Gradient Descent:\", int(error1[i]) )\n",
    "    print(\"\\tErro pela Equacao Normal:   \" , int(error1_n[i]) )\n",
    "\n",
    "print(\"Media erros GD:\", int(np.mean(error1)) )\n",
    "print(\"Media erros EN: \", int(np.mean(error1_n)) )\n"
   ]
  },
  {
   "cell_type": "code",
   "execution_count": 34,
   "metadata": {},
   "outputs": [
    {
     "data": {
      "text/plain": [
       "[0, 2000, 0, 10000000]"
      ]
     },
     "execution_count": 34,
     "metadata": {},
     "output_type": "execute_result"
    },
    {
     "data": {
      "image/png": "[encoded data removed]",
      "text/plain": [
       "<Figure size 432x288 with 1 Axes>"
      ]
     },
     "metadata": {},
     "output_type": "display_data"
    }
   ],
   "source": [
    "import matplotlib.pyplot as plt\n",
    "import numpy as pd\n",
    "%matplotlib inline\n",
    "\n",
    "plt.plot(range(cost.shape[0]) ,cost)\n",
    "plt.ylabel('Cost Function')\n",
    "plt.xlabel('Iterations')\n",
    "plt.axis([0,2000,0,10000000])\n",
    "\n"
   ]
  },
  {
   "cell_type": "markdown",
   "metadata": {},
   "source": [
    "-------------------------------------------------------------------------------------------"
   ]
  },
  {
   "cell_type": "markdown",
   "metadata": {},
   "source": [
    "### Modelo 2: sem as features que nao aparentam ter significado no resultado (table,depth,clarity,color,cut)"
   ]
  },
  {
   "cell_type": "code",
   "execution_count": 36,
   "metadata": {
    "scrolled": false
   },
   "outputs": [],
   "source": [
    "from sklearn.metrics import mean_squared_error\n",
    "\n",
    "data = diamond_data[['x', 'y', 'z', 'carat', 'price']]\n",
    "x2,y2 = prepareSet(data)\n",
    "indices_generator = generate_sets(x2)\n",
    "theta2 = np.zeros((5,x2.shape[1],1))\n",
    "error2 = np.zeros((5,1))\n",
    "error2_n = np.zeros((5,1)) \n",
    "i=0\n",
    "for train_index, val_index in indices_generator:\n",
    "    #dados de treino e de validacao\n",
    "    x2_train = x2[train_index]\n",
    "    y2_train = y2[train_index]\n",
    "    x2_val = x2[val_index]\n",
    "    y2_val = y2[val_index]\n",
    "     \n",
    "    theta2[i],cost = LinRegBatchGradientDescentCostPerIteraction(x2_train,y2_train,10000,0.001)\n",
    "    thetaNormal = NormalEquation(x2_train,y2_train)\n",
    "    \n",
    "    #error from validation\n",
    "    y2_predict = x2_val.dot(theta2[i])\n",
    "    y2_n_predict = x2_val.dot(thetaNormal)\n",
    "    error2[i] = mean_squared_error(y2_val, y2_predict)\n",
    "    error2_n[i] = mean_squared_error(y2_val, y2_n_predict)/2\n",
    "    i += 1"
   ]
  },
  {
   "cell_type": "code",
   "execution_count": 37,
   "metadata": {
    "scrolled": true
   },
   "outputs": [
    {
     "name": "stdout",
     "output_type": "stream",
     "text": [
      "Iteracao  1\n",
      "\tErro pelo Gradient Descent: 2876645\n",
      "\tErro pela Equacao Normal:   1109230\n",
      "Iteracao  2\n",
      "\tErro pelo Gradient Descent: 3033763\n",
      "\tErro pela Equacao Normal:   1155806\n",
      "Iteracao  3\n",
      "\tErro pelo Gradient Descent: 3154273\n",
      "\tErro pela Equacao Normal:   1188962\n",
      "Iteracao  4\n",
      "\tErro pelo Gradient Descent: 3074582\n",
      "\tErro pela Equacao Normal:   1886008\n",
      "Iteracao  5\n",
      "\tErro pelo Gradient Descent: 2940127\n",
      "\tErro pela Equacao Normal:   1141531\n",
      "Media erros GD: 3015878\n",
      "Media erros EN: 1296307\n"
     ]
    }
   ],
   "source": [
    "np.set_printoptions(precision=1)\n",
    "for i in range(5):\n",
    "    print(\"Iteracao \", i+1,)\n",
    "    print(\"\\tErro pelo Gradient Descent:\", int(error2[i]) )\n",
    "    print(\"\\tErro pela Equacao Normal:  \" , int(error2_n[i]) )\n",
    "\n",
    "print(\"Media erros GD:\", int(np.mean(error2)) )\n",
    "print(\"Media erros EN:\", int(np.mean(error2_n)) )"
   ]
  },
  {
   "cell_type": "code",
   "execution_count": 38,
   "metadata": {},
   "outputs": [
    {
     "data": {
      "text/plain": [
       "[0, 2000, 0, 10000000]"
      ]
     },
     "execution_count": 38,
     "metadata": {},
     "output_type": "execute_result"
    },
    {
     "data": {
      "image/png": "[encoded data removed]",
      "text/plain": [
       "<Figure size 432x288 with 1 Axes>"
      ]
     },
     "metadata": {},
     "output_type": "display_data"
    }
   ],
   "source": [
    "import matplotlib.pyplot as plt\n",
    "import numpy as pd\n",
    "%matplotlib inline\n",
    "\n",
    "plt.plot(range(cost.shape[0]) ,cost)\n",
    "plt.ylabel('Cost Function')\n",
    "plt.xlabel('Iterations')\n",
    "plt.axis([0,2000,0,10000000])\n"
   ]
  },
  {
   "cell_type": "markdown",
   "metadata": {},
   "source": [
    "### Modelo 3 : sem as features que nao aparentam ter significado no resultado, so que com elas ao quadrado"
   ]
  },
  {
   "cell_type": "code",
   "execution_count": null,
   "metadata": {},
   "outputs": [],
   "source": [
    "from sklearn.metrics import mean_squared_error\n",
    "\n",
    "data = diamond_data[['x', 'y', 'z', 'carat', 'price']]\n",
    "data.insert(loc=0, column='x2', value = data['x']**2)\n",
    "data.insert(loc=0, column='y2', value = data['y']**2)\n",
    "data.insert(loc=0, column='z2', value = data['z']**2)\n",
    "data.insert(loc=0, column='carat2', value = data['carat']**2)\n",
    "x3,y3 = prepareSet(data)\n",
    "indices_generator = generate_sets(x3)\n",
    "theta3 = np.zeros((5,x3.shape[1],1))\n",
    "error3 = np.zeros((5,1))\n",
    "error3_n = np.zeros((5,1)) \n",
    "i=0\n",
    "for train_index, val_index in indices_generator:\n",
    "    #dados de treino e de validacao\n",
    "    x3_train = x3[train_index]\n",
    "    y3_train = y3[train_index]\n",
    "    x3_val = x3[val_index]\n",
    "    y3_val = y3[val_index]\n",
    "     \n",
    "    theta3[i] = LinRegBatchGradientDescent(x3_train,y3_train,10000,0.001)\n",
    "    thetaNormal = NormalEquation(x3_train,y3_train)\n",
    "    \n",
    "    #error from validation\n",
    "    y3_predict = x3_val.dot(theta3[i])\n",
    "    y3_n_predict = x3_val.dot(thetaNormal)\n",
    "    error3[i] = mean_squared_error(y3_val, y3_predict)\n",
    "    error3_n[i] = mean_squared_error(y3_val, y3_n_predict)/2\n",
    "    i += 1"
   ]
  },
  {
   "cell_type": "code",
   "execution_count": null,
   "metadata": {},
   "outputs": [],
   "source": [
    "np.set_printoptions(precision=1)\n",
    "for i in range(5):\n",
    "    print(\"Iteracao \", i+1,)\n",
    "    print(\"\\tErro pelo Gradient Descent:\", int(error3[i]) )\n",
    "    print(\"\\tErro pela Equacao Normal:  \" , int(error3_n[i]) )\n",
    "\n",
    "print(\"Media erros GD:\", int(np.mean(error3)) )\n",
    "print(\"Media erros EN:\", int(np.mean(error3_n)) )"
   ]
  },
  {
   "cell_type": "markdown",
   "metadata": {},
   "source": [
    "### Modelo 4: todas as features com tudo ao quadrado"
   ]
  },
  {
   "cell_type": "code",
   "execution_count": null,
   "metadata": {},
   "outputs": [],
   "source": [
    "from sklearn.metrics import mean_squared_error\n",
    "\n",
    "x4,y4 = prepareSet(diamond_data)\n",
    "x4 = np.hstack([x4,x4**2])\n",
    "indices_generator = generate_sets(x4)\n",
    "theta4 = np.zeros((5,x4.shape[1],1))\n",
    "error4 = np.zeros((5,1))\n",
    "error4_n = np.zeros((5,1)) \n",
    "i=0\n",
    "for train_index, val_index in indices_generator:\n",
    "    #dados de treino e de validacao\n",
    "    x4_train = x4[train_index]\n",
    "    y4_train = y4[train_index]\n",
    "    x4_val = x4[val_index]\n",
    "    y4_val = y4[val_index]\n",
    "     \n",
    "    theta4[i] = LinRegBatchGradientDescent(x4_train,y4_train,10000,0.0001)\n",
    "    thetaNormal = NormalEquation(x4_train,y4_train)\n",
    "    \n",
    "    #error from validation\n",
    "    y4_predict = x4_val.dot(theta4[i])\n",
    "    y4_n_predict = x4_val.dot(thetaNormal)\n",
    "    error4[i] = mean_squared_error(y4_val, y4_predict)\n",
    "    error4_n[i] = mean_squared_error(y4_val, y4_n_predict)/2\n",
    "    i += 1"
   ]
  },
  {
   "cell_type": "code",
   "execution_count": null,
   "metadata": {},
   "outputs": [],
   "source": [
    "np.set_printoptions(precision=1)\n",
    "for i in range(5):\n",
    "    print(\"Iteracao \", i+1,)\n",
    "    print(\"\\tErro pelo Gradient Descent:\", int(error4[i]) )\n",
    "    print(\"\\tErro pela Equacao Normal:  \" , int(error4_n[i]) )\n",
    "\n",
    "print(\"Media erros GD:\", int(np.mean(error4)) )\n",
    "print(\"Media erros EN:\", int(np.mean(error4_n)) )"
   ]
  },
  {
   "cell_type": "markdown",
   "metadata": {},
   "source": [
    "-----------------"
   ]
  }
 ],
 "metadata": {
  "kernelspec": {
   "display_name": "Python 3",
   "language": "python",
   "name": "python3"
  },
  "language_info": {
   "codemirror_mode": {
    "name": "ipython",
    "version": 3
   },
   "file_extension": ".py",
   "mimetype": "text/x-python",
   "name": "python",
   "nbconvert_exporter": "python",
   "pygments_lexer": "ipython3",
   "version": "3.6.5"
  }
 },
 "nbformat": 4,
 "nbformat_minor": 2
}
